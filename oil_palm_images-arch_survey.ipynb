{
 "cells": [
  {
   "cell_type": "markdown",
   "metadata": {},
   "source": [
    "# Predict Oil Palm Plantation from Satellite Images\n",
    "\n",
    "Train a model that takes as input a satellite image and outputs a prediction of how likely it is that the image contains an oil palm plantation. The model is used to make prediction on the unlabeled images in test set. This is a [WiDS Datathon 2019](https://www.kaggle.com/c/widsdatathon2019) in Kaggle. \n",
    "\n",
    "The training set images are stored in folder `train_images` and the test images are stored in folder `leaderboard_test_data`, and `leaderboard_holdout_data`. The label is in the file `traininglabels.csv` with label 1 means the image has oil palm. \n",
    "\n",
    "* Libraries: fastai, pytorch libraries, opencv\n",
    "* Hardwares: Nvidia GTX1060 3 GB\n",
    "* Split image into train, validation and test sets\n",
    "* Workwith Imbalance class: only 6% of the images belong to a second class (with oilpalm). Solve by create an augmented images from the training set. Details in this [notebook](https://github.com/worasom/WiDS_Datathon_2019/blob/master/generate_augmented_images.ipynb)\n",
    "*\tTransfer learning using pretrained models  \n",
    "* Explore different CNN architectures: resnet34, resnext201, dn201 in this [notebook](https://github.com/worasom/WiDS_Datathon_2019/blob/master/oil_palm_images-arch_survey.ipynb)\n",
    "* Submit different prediction to kaggle to verify correlation between the hold out set and the internal test/validation sets this [notebook](https://github.com/worasom/WiDS_Datathon_2019/blob/master/oil_palm_images-arch_survey.ipynb).\n",
    "* Pretrained neural network using previous Kaggle competition in this[notebook](https://github.com/worasom/WiDS_Datathon_2019/blob/master/pretrain_planet.ipynb) and use the trained weight for this problem in this [notebook](https://github.com/worasom/WiDS_Datathon_2019/blob/master/oil_palm_images-trans.ipynb).\n",
    "*\tAchieve 95% accuracy for the Kaggle hold out dataset (151 on the leaderboard) \n",
    "\n",
    "I learn a lot from working on this project. First, creating augmented images is the key to work with imbalance dataset. Second, it looks like deep network perform better on this dataset, but once picking a deep NN, it does not matter if it's resnext101 or restnet152 or dn201. Third, I learned how to transfer learning weights from other images to this set. Although the accuracy was not better, but it was a very good experience. "
   ]
  },
  {
   "cell_type": "code",
   "execution_count": 1,
   "metadata": {},
   "outputs": [],
   "source": [
    "#setup the notebook\n",
    "%reload_ext autoreload\n",
    "%autoreload 2\n",
    "%matplotlib inline\n",
    "%config IPCompleter.greedy=True\n",
    "\n",
    "import sys\n",
    "import feather\n",
    "from pathlib import Path\n",
    "from glob import glob\n",
    "sys.path.append(r'C:\\Users\\Benny\\fastai\\old')\n",
    "\n",
    "from fastai.imports import *\n",
    "from fastai.transforms import *\n",
    "from fastai.conv_learner import *\n",
    "from fastai.model import *\n",
    "from fastai.dataset import *\n",
    "from fastai.sgdr import *\n",
    "from fastai.plots import *"
   ]
  },
  {
   "cell_type": "code",
   "execution_count": 2,
   "metadata": {},
   "outputs": [
    {
     "data": {
      "text/plain": [
       "True"
      ]
     },
     "execution_count": 2,
     "metadata": {},
     "output_type": "execute_result"
    }
   ],
   "source": [
    "torch.cuda.is_available()\n",
    "torch.backends.cudnn.enabled"
   ]
  },
  {
   "cell_type": "code",
   "execution_count": 4,
   "metadata": {},
   "outputs": [
    {
     "name": "stdout",
     "output_type": "stream",
     "text": [
      " Volume in drive C is Windows\n",
      " Volume Serial Number is FC06-B52C\n",
      "\n",
      " Directory of C:\\Users\\Benny\\Documents\\Fern\\widsdatathon2019\n",
      "\n",
      "02/27/2019  10:28 AM    <DIR>          .\n",
      "02/27/2019  10:28 AM    <DIR>          ..\n",
      "02/27/2019  10:19 AM    <DIR>          .ipynb_checkpoints\n",
      "02/20/2019  09:27 PM        46,258,105 leaderboard_holdout_data.zip\n",
      "02/27/2019  10:24 AM    <DIR>          leaderboard_test_data\n",
      "02/20/2019  09:27 PM        94,811,591 leaderboard_test_data.zip\n",
      "02/27/2019  10:28 AM             1,933 oil_palm_images.ipynb\n",
      "02/20/2019  09:27 PM           137,236 SampleSubmission.csv\n",
      "02/20/2019  09:27 PM           362,925 traininglabels.csv\n",
      "02/25/2019  01:01 PM    <DIR>          train_images\n",
      "               5 File(s)    141,571,790 bytes\n",
      "               5 Dir(s)  23,443,681,280 bytes free\n"
     ]
    }
   ],
   "source": [
    "!dir"
   ]
  },
  {
   "cell_type": "markdown",
   "metadata": {},
   "source": [
    "## Exploratory Data Analysis"
   ]
  },
  {
   "cell_type": "code",
   "execution_count": 6,
   "metadata": {},
   "outputs": [
    {
     "data": {
      "text/plain": [
       "15244"
      ]
     },
     "execution_count": 6,
     "metadata": {},
     "output_type": "execute_result"
    }
   ],
   "source": [
    "trn_path = 'train_images/'\n",
    "filenames = glob(trn_path+'*.jpg')\n",
    "len(filenames)"
   ]
  },
  {
   "cell_type": "code",
   "execution_count": 3,
   "metadata": {},
   "outputs": [
    {
     "data": {
      "text/plain": [
       "Index(['image_id', 'has_oilpalm', 'score'], dtype='object')"
      ]
     },
     "execution_count": 3,
     "metadata": {},
     "output_type": "execute_result"
    }
   ],
   "source": [
    "trn_df = pd.read_csv('traininglabels.csv') \n",
    "trn_df.columns"
   ]
  },
  {
   "cell_type": "code",
   "execution_count": 15,
   "metadata": {},
   "outputs": [],
   "source": [
    "trn_df_mod = trn_df.drop('score', axis=1)\n",
    "trn_df_mod['image_id'] = trn_path + trn_df['image_id'].values"
   ]
  },
  {
   "cell_type": "code",
   "execution_count": 17,
   "metadata": {},
   "outputs": [],
   "source": [
    "trn_df_mod.to_csv('trainlabels_mod.csv',index=False)"
   ]
  },
  {
   "cell_type": "code",
   "execution_count": 13,
   "metadata": {},
   "outputs": [],
   "source": [
    "trn_df_mod = pd.read_csv('trainlabels_mod.csv')"
   ]
  },
  {
   "cell_type": "code",
   "execution_count": 20,
   "metadata": {},
   "outputs": [
    {
     "data": {
      "text/plain": [
       "(                         image_id  has_oilpalm\n",
       " 0  train_images/img_000002017.jpg            0\n",
       " 1  train_images/img_000012017.jpg            0\n",
       " 2  train_images/img_000022017.jpg            0\n",
       " 3  train_images/img_000072017.jpg            0\n",
       " 4  train_images/img_000082017.jpg            0, 15244)"
      ]
     },
     "execution_count": 20,
     "metadata": {},
     "output_type": "execute_result"
    }
   ],
   "source": [
    "trn_df_mod.head(), len(trn_df_mod)"
   ]
  },
  {
   "cell_type": "code",
   "execution_count": 21,
   "metadata": {},
   "outputs": [],
   "source": [
    "filenames = trn_df_mod['image_id'].values"
   ]
  },
  {
   "cell_type": "code",
   "execution_count": 48,
   "metadata": {},
   "outputs": [
    {
     "data": {
      "image/png": "[encoded data removed]",
      "text/plain": [
       "<Figure size 576x360 with 6 Axes>"
      ]
     },
     "metadata": {
      "needs_background": "light"
     },
     "output_type": "display_data"
    }
   ],
   "source": [
    "plt.figure(figsize=(8,5))\n",
    "\n",
    "for i in range(1,7):\n",
    "    ax = plt.subplot(2,3,i)\n",
    "    ax = plt.imshow(plt.imread(filenames[i]))   "
   ]
  },
  {
   "cell_type": "code",
   "execution_count": 54,
   "metadata": {},
   "outputs": [
    {
     "data": {
      "text/plain": [
       "0    14302\n",
       "1      942\n",
       "Name: has_oilpalm, dtype: int64"
      ]
     },
     "execution_count": 54,
     "metadata": {},
     "output_type": "execute_result"
    }
   ],
   "source": [
    "trn_df_mod.has_oilpalm.value_counts()"
   ]
  },
  {
   "cell_type": "markdown",
   "metadata": {},
   "source": [
    "Very unbalance dataset "
   ]
  },
  {
   "cell_type": "code",
   "execution_count": 55,
   "metadata": {},
   "outputs": [
    {
     "data": {
      "text/plain": [
       "(256, 256, 3)"
      ]
     },
     "execution_count": 55,
     "metadata": {},
     "output_type": "execute_result"
    }
   ],
   "source": [
    "img = plt.imread(filenames[0])\n",
    "img.shape"
   ]
  },
  {
   "cell_type": "code",
   "execution_count": 4,
   "metadata": {},
   "outputs": [
    {
     "data": {
      "text/plain": [
       "1524"
      ]
     },
     "execution_count": 4,
     "metadata": {},
     "output_type": "execute_result"
    }
   ],
   "source": [
    "#allodate some data into a test set \n",
    "test_idxs = get_cv_idxs(len(trn_df), val_pct=0.1, seed=52)\n",
    "test = trn_df.iloc[test_idxs]\n",
    "y_test = test['has_oilpalm'].values\n",
    "\n",
    "len(y_test)"
   ]
  },
  {
   "cell_type": "code",
   "execution_count": 182,
   "metadata": {},
   "outputs": [],
   "source": [
    "#put internal test images into a test folder \n",
    "import shutil\n",
    "\n",
    "t_filenames = test['image_id'].values\n",
    "for file in t_filenames:\n",
    "    shutil.copy(trn_path+file,'test/'+file) "
   ]
  },
  {
   "cell_type": "code",
   "execution_count": 73,
   "metadata": {},
   "outputs": [
    {
     "data": {
      "text/plain": [
       "0    12880\n",
       "1      840\n",
       "Name: has_oilpalm, dtype: int64"
      ]
     },
     "execution_count": 73,
     "metadata": {},
     "output_type": "execute_result"
    }
   ],
   "source": [
    "df = trn_df_mod.drop(test_idxs , axis=0)\n",
    "df['has_oilpalm'].value_counts()"
   ]
  },
  {
   "cell_type": "code",
   "execution_count": 74,
   "metadata": {},
   "outputs": [],
   "source": [
    "len(df)\n",
    "df.to_csv('train_val.csv',index=False)"
   ]
  },
  {
   "cell_type": "code",
   "execution_count": 100,
   "metadata": {},
   "outputs": [],
   "source": [
    "# get baseline accuracy \n",
    "from sklearn.metrics import accuracy_score, log_loss"
   ]
  },
  {
   "cell_type": "code",
   "execution_count": 102,
   "metadata": {
    "scrolled": false
   },
   "outputs": [
    {
     "name": "stdout",
     "output_type": "stream",
     "text": [
      "baseline accuracy = 0.9382051954867489\n",
      "baseline loss = 2.1343169354503986\n"
     ]
    }
   ],
   "source": [
    "y_true = trn_df_mod['has_oilpalm'].values\n",
    "y_pred = np.zeros(len(y_true))\n",
    "print('baseline accuracy =', accuracy_score(y_true, y_pred))\n",
    "print('baseline loss =', log_loss(y_true, y_pred))"
   ]
  },
  {
   "cell_type": "markdown",
   "metadata": {},
   "source": [
    "In summary, we have 15244 training images, and will allocate 1524(10%) as a test and as 2744 validation(20% of the remaining), leaving 10976 for the training set. There are two hold out sets: leader_board_test folder has 4356 files and learder_board_holdout_data has 2178 files. The internal test images are copied to folder test, and the train image list is in the 'train_val.csv'.\n",
    "\n",
    "About 6% of the images have oil palm. The training set should have about 658 images with oil palm. The images are 256 x 256 pixels and have 3 channels. Baseline: if a model predicts all images to have no oil palm will get 94% accuracy and 2 log_loss. Public leader board is 99.957%.\n",
    "\n",
    "Leaderboard test images are in the same folder as the internal test images. "
   ]
  },
  {
   "cell_type": "markdown",
   "metadata": {},
   "source": [
    "## Unbalance Training Data\n",
    "\n",
    "This dataset has unbalance dataset, only 6% of images have oil palm. To solve this, I will add augmented images this class in the training folder. \n",
    "\n",
    "1. Define functions to generate augmented images: \n",
    "\n",
    "    * `rotate_cv` return a rotated image. I use this to create 7 more images each with multiple of 45 deg rotation.\n",
    "    * `stretch_cv` return 3 images with a 1.01 horizontal or vertical zoom or both.  \n",
    "    * I will get (7+3) x 672 = 6720 images\n",
    "    * Randomly select half of these images to put into either `lighting` or `blur`. This procedure should give me \n",
    "    * At the end, I will have ((7+3) x 672 + 3360 about 10080 images or more (if perform randomness two times will generate more images)\n",
    "  \n",
    "2. Randomly shuffle the images and include 8000 images into a training label csv file with these filenames and label 1. Note that the images are in a separate folder)\n",
    "\n",
    "This is done in another [notebook](https://github.com/worasom/WiDS_Datathon_2019/blob/master/generate_augmented_images.ipynb)"
   ]
  },
  {
   "cell_type": "markdown",
   "metadata": {},
   "source": [
    "## Try different architectures\n",
    "\n",
    "Need to verify if the internal test set is similar to the kaggle test set. If they are similar the accuracy scores for the internal test set should be the same. This is done by submitting results from 3 - 5 models and plot the internal accuracy vs submitted accuracy.\n"
   ]
  },
  {
   "cell_type": "code",
   "execution_count": 5,
   "metadata": {},
   "outputs": [],
   "source": [
    "df = pd.read_csv('train_val.csv')"
   ]
  },
  {
   "cell_type": "code",
   "execution_count": 6,
   "metadata": {},
   "outputs": [
    {
     "data": {
      "text/plain": [
       "(13720, 2744, 10976, 1524)"
      ]
     },
     "execution_count": 6,
     "metadata": {},
     "output_type": "execute_result"
    }
   ],
   "source": [
    "#split into train and validation set\n",
    "idxs = get_cv_idxs(len(df), val_pct=0.2, seed=52)\n",
    "len(df), len(idxs), len(df) - len(idxs), len(y_test)"
   ]
  },
  {
   "cell_type": "code",
   "execution_count": 89,
   "metadata": {},
   "outputs": [
    {
     "name": "stdout",
     "output_type": "stream",
     "text": [
      "0    2576\n",
      "1     168\n",
      "Name: has_oilpalm, dtype: int64 0    10304\n",
      "1      672\n",
      "Name: has_oilpalm, dtype: int64\n"
     ]
    }
   ],
   "source": [
    "# see how data is distributed\n",
    "print(df.loc[idxs]['has_oilpalm'].value_counts(), \n",
    "      df.loc[~df.index.isin(idxs)]['has_oilpalm'].value_counts())"
   ]
  },
  {
   "cell_type": "markdown",
   "metadata": {},
   "source": [
    "### Pick an architecture \n",
    "\n",
    "Pick a learning rate, and image transformation"
   ]
  },
  {
   "cell_type": "code",
   "execution_count": 7,
   "metadata": {},
   "outputs": [],
   "source": [
    "# test the accucary of the internal test set \n",
    "#and generate prediction on kaggle test set\n",
    "def separate_test_set(data, log_preds):\n",
    "    '''separate prediction for test images from the submission test images\n",
    "    return log_preds_test and log_preds_sub\n",
    "    '''\n",
    "    submitfile = pd.read_csv('SampleSubmission.csv')\n",
    "    submit_fnames = submitfile['image_id'].values\n",
    "    fnames = data.test_dl.dataset.fnames\n",
    "    fnames = [name.split('\\\\')[1] for name in fnames]\n",
    "    fnames = np.array(fnames)\n",
    "    \n",
    "    log_preds_test = log_preds[~np.in1d(fnames, submit_fnames)]\n",
    "    log_preds_sub = log_preds[np.in1d(fnames, submit_fnames)]\n",
    "    submit_fnames = fnames[np.in1d(fnames, submit_fnames)]\n",
    "    return log_preds_test, log_preds_sub, submit_fnames"
   ]
  },
  {
   "cell_type": "code",
   "execution_count": 16,
   "metadata": {},
   "outputs": [],
   "source": [
    "arch = dn201\n",
    "sz = 128\n",
    "bs = 5 # small batch size for home"
   ]
  },
  {
   "cell_type": "code",
   "execution_count": null,
   "metadata": {},
   "outputs": [],
   "source": [
    "# try custom augmentation did not give good result.\n",
    "aug_tfms = [RandomRotate(45, p=0.75, mode=cv2.BORDER_REFLECT), \n",
    "            RandomRotateZoom(deg=180, zoom=1.1, stretch=0.5), \n",
    "            RandomDihedral(), RandomFlip(), RandomLighting(0.05,0.05),\n",
    "            Cutout(n_holes=5, length=20),\n",
    "            AddPadding(pad=20, mode=cv2.BORDER_WRAP)]           "
   ]
  },
  {
   "cell_type": "code",
   "execution_count": 17,
   "metadata": {},
   "outputs": [],
   "source": [
    "aug_tfms = transforms_top_down"
   ]
  },
  {
   "cell_type": "code",
   "execution_count": 18,
   "metadata": {},
   "outputs": [],
   "source": [
    "tfms = tfms_from_model(arch, sz, aug_tfms=aug_tfms, max_zoom=1.1)\n",
    "data = ImageClassifierData.from_csv('', '', 'train_val_augment.csv', bs=bs, tfms=tfms, val_idxs=idxs,\n",
    "                                    test_name='test', continuous=False, skip_header=True, num_workers=8, cat_separator=',')"
   ]
  },
  {
   "cell_type": "code",
   "execution_count": null,
   "metadata": {},
   "outputs": [],
   "source": [
    "learn = ConvLearner.pretrained(arch, data, precompute=True)"
   ]
  },
  {
   "cell_type": "code",
   "execution_count": null,
   "metadata": {},
   "outputs": [],
   "source": [
    "#learning rate finder\n",
    "lrf=learn.lr_find()\n",
    "learn.sched.plot()"
   ]
  },
  {
   "cell_type": "code",
   "execution_count": 12,
   "metadata": {},
   "outputs": [
    {
     "data": {
      "application/vnd.jupyter.widget-view+json": {
       "model_id": "01cde797161046ebbffc47fbabe78c0d",
       "version_major": 2,
       "version_minor": 0
      },
      "text/plain": [
       "HBox(children=(IntProgress(value=0, description='Epoch', max=1, style=ProgressStyle(description_width='initial…"
      ]
     },
     "metadata": {},
     "output_type": "display_data"
    },
    {
     "name": "stdout",
     "output_type": "stream",
     "text": [
      "epoch      trn_loss   val_loss   accuracy                                                                              \n",
      "    0      0.130057   0.089711   0.971939  \n",
      "\n"
     ]
    },
    {
     "data": {
      "text/plain": [
       "[0.08971147775736911, 0.971938769254323]"
      ]
     },
     "execution_count": 12,
     "metadata": {},
     "output_type": "execute_result"
    }
   ],
   "source": [
    "lr = 1e-4 \n",
    "learn.fit(lr, 1)"
   ]
  },
  {
   "cell_type": "code",
   "execution_count": 13,
   "metadata": {
    "scrolled": false
   },
   "outputs": [
    {
     "data": {
      "application/vnd.jupyter.widget-view+json": {
       "model_id": "bdc57c9c61e544a1aecc6e2c12dd952b",
       "version_major": 2,
       "version_minor": 0
      },
      "text/plain": [
       "HBox(children=(IntProgress(value=0, description='Epoch', max=3, style=ProgressStyle(description_width='initial…"
      ]
     },
     "metadata": {},
     "output_type": "display_data"
    },
    {
     "name": "stdout",
     "output_type": "stream",
     "text": [
      "epoch      trn_loss   val_loss   accuracy                                                                              \n",
      "    0      0.131334   0.037259   0.991983  \n",
      "    1      0.147549   0.039333   0.990525                                                                              \n",
      "    2      0.13048    0.040784   0.989796                                                                              \n",
      "\n"
     ]
    },
    {
     "data": {
      "text/plain": [
       "[0.040783694520512594, 0.9897959159345043]"
      ]
     },
     "execution_count": 13,
     "metadata": {},
     "output_type": "execute_result"
    }
   ],
   "source": [
    "learn.precompute = False\n",
    "learn.fit(lr, 3, cycle_len=1)"
   ]
  },
  {
   "cell_type": "code",
   "execution_count": 14,
   "metadata": {
    "scrolled": true
   },
   "outputs": [
    {
     "data": {
      "application/vnd.jupyter.widget-view+json": {
       "model_id": "0426b940df8d41a2bba783c4bdf97aba",
       "version_major": 2,
       "version_minor": 0
      },
      "text/plain": [
       "HBox(children=(IntProgress(value=0, description='Epoch', max=7, style=ProgressStyle(description_width='initial…"
      ]
     },
     "metadata": {},
     "output_type": "display_data"
    },
    {
     "name": "stdout",
     "output_type": "stream",
     "text": [
      "epoch      trn_loss   val_loss   accuracy                                                                              \n",
      "    0      0.176688   0.038795   0.987974  \n",
      "    1      0.16357    0.032795   0.988338                                                                              \n",
      "    2      0.14059    0.039038   0.986516                                                                              \n",
      "    3      0.138838   0.032242   0.988338                                                                              \n",
      "    4      0.087932   0.029306   0.991983                                                                              \n",
      "    5      0.103551   0.027675   0.992711                                                                              \n",
      "    6      0.098274   0.033771   0.990889                                                                              \n",
      "\n"
     ]
    },
    {
     "data": {
      "text/plain": [
       "[0.033771021880054, 0.9908892108730255]"
      ]
     },
     "execution_count": 14,
     "metadata": {},
     "output_type": "execute_result"
    }
   ],
   "source": [
    "learn.unfreeze()\n",
    "lrs = np.array([lr/9, lr/3, lr])\n",
    "learn.fit(lrs, 3, cycle_len=1, cycle_mult=2)"
   ]
  },
  {
   "cell_type": "code",
   "execution_count": 15,
   "metadata": {},
   "outputs": [
    {
     "name": "stdout",
     "output_type": "stream",
     "text": [
      "['dn201', 0.9916180758017493, 0.8805774278215223]                                                                      \n"
     ]
    }
   ],
   "source": [
    "# accuracy on the validation set and internal test set with TTA\n",
    "log_preds, _ = learn.TTA()\n",
    "val_accuracy = accuracy_np(np.mean(np.exp(log_preds),0), data.val_y)\n",
    "log_preds, _ = learn.TTA(is_test=True)\n",
    "test_preds = np.mean(np.exp(log_preds),0)\n",
    "preds_test, preds_sub, submit_fnames = separate_test_set(data, test_preds)\n",
    "test_accuracy = accuracy_np(preds_test, y_test)\n",
    "arch_result = [arch.__name__, val_accuracy, test_accuracy]\n",
    "print(arch_result)"
   ]
  },
  {
   "cell_type": "code",
   "execution_count": 16,
   "metadata": {},
   "outputs": [],
   "source": [
    "preds=np.argmax(preds_sub,axis=1)\n",
    "predict_df = pd.DataFrame({'image_id':submit_fnames,'has_oilpalm':preds})\n",
    "predict_df.to_csv('submit/'+arch.__name__+'planet_sub.csv',index=False)"
   ]
  },
  {
   "cell_type": "code",
   "execution_count": 17,
   "metadata": {},
   "outputs": [],
   "source": [
    "learn.save(arch.__name__+'_final')"
   ]
  },
  {
   "cell_type": "code",
   "execution_count": null,
   "metadata": {},
   "outputs": [],
   "source": [
    "# accuracy on the validation set and internal test set without TTA\n",
    "log_preds = learn.predict()\n",
    "val_accuracy = accuracy_np(np.exp(log_preds), data.val_y)\n",
    "log_preds = learn.predict(is_test=True)\n",
    "log_preds_test, log_preds_sub, submit_fnames = separate_test_set(data, log_preds)\n",
    "test_accuracy = accuracy_np(np.exp(log_preds_test), y_test)\n",
    "arch_result = [arch.__name__, val_accuracy, test_accuracy]\n",
    "print(arch_result)"
   ]
  },
  {
   "cell_type": "markdown",
   "metadata": {},
   "source": [
    "## Try Different Architectures\n",
    "\n",
    "I need to pick the architecture. We have the following pretained models: resnet18, resnet34, resnet50,  resnet101, resnet152, vgg16, vgg19, resnext50, resnext101, resnext101_64, wrn, inceptionresnet_2, inception_4, dn121, dn161, dn169, dn201. \n",
    "\n",
    "Use small learning rate and leave this turn over night."
   ]
  },
  {
   "cell_type": "code",
   "execution_count": 21,
   "metadata": {},
   "outputs": [],
   "source": [
    "sz = 128\n",
    "bs = 20\n",
    "\n",
    "#arch_list = [resnet34, resnet50, resnet101, vgg16, vgg19]\n",
    "#arch_list = [vgg19]\n",
    "#arch_list = [resnet18, resnext50, resnext101, wrn, inception_4]\n",
    "arch_list = [dn201]"
   ]
  },
  {
   "cell_type": "code",
   "execution_count": 22,
   "metadata": {
    "collapsed": true
   },
   "outputs": [
    {
     "name": "stderr",
     "output_type": "stream",
     "text": [
      "C:\\Users\\Benny\\Anaconda3\\envs\\fastai\\lib\\site-packages\\torchvision\\models\\densenet.py:212: UserWarning: nn.init.kaiming_normal is now deprecated in favor of nn.init.kaiming_normal_.\n",
      "  nn.init.kaiming_normal(m.weight.data)\n",
      "C:\\Users\\Benny\\Anaconda3\\envs\\fastai\\lib\\site-packages\\torchvision\\models\\densenet.py:212: UserWarning: nn.init.kaiming_normal is now deprecated in favor of nn.init.kaiming_normal_.\n",
      "  nn.init.kaiming_normal(m.weight.data)\n",
      "C:\\Users\\Benny\\Anaconda3\\envs\\fastai\\lib\\site-packages\\torchvision\\models\\densenet.py:212: UserWarning: nn.init.kaiming_normal is now deprecated in favor of nn.init.kaiming_normal_.\n",
      "  nn.init.kaiming_normal(m.weight.data)\n",
      "C:\\Users\\Benny\\Anaconda3\\envs\\fastai\\lib\\site-packages\\torchvision\\models\\densenet.py:212: UserWarning: nn.init.kaiming_normal is now deprecated in favor of nn.init.kaiming_normal_.\n",
      "  nn.init.kaiming_normal(m.weight.data)\n",
      "C:\\Users\\Benny\\Anaconda3\\envs\\fastai\\lib\\site-packages\\torchvision\\models\\densenet.py:212: UserWarning: nn.init.kaiming_normal is now deprecated in favor of nn.init.kaiming_normal_.\n",
      "  nn.init.kaiming_normal(m.weight.data)\n",
      "C:\\Users\\Benny\\Anaconda3\\envs\\fastai\\lib\\site-packages\\torchvision\\models\\densenet.py:212: UserWarning: nn.init.kaiming_normal is now deprecated in favor of nn.init.kaiming_normal_.\n",
      "  nn.init.kaiming_normal(m.weight.data)\n",
      "C:\\Users\\Benny\\Anaconda3\\envs\\fastai\\lib\\site-packages\\torchvision\\models\\densenet.py:212: UserWarning: nn.init.kaiming_normal is now deprecated in favor of nn.init.kaiming_normal_.\n",
      "  nn.init.kaiming_normal(m.weight.data)\n",
      "C:\\Users\\Benny\\Anaconda3\\envs\\fastai\\lib\\site-packages\\torchvision\\models\\densenet.py:212: UserWarning: nn.init.kaiming_normal is now deprecated in favor of nn.init.kaiming_normal_.\n",
      "  nn.init.kaiming_normal(m.weight.data)\n",
      "C:\\Users\\Benny\\Anaconda3\\envs\\fastai\\lib\\site-packages\\torchvision\\models\\densenet.py:212: UserWarning: nn.init.kaiming_normal is now deprecated in favor of nn.init.kaiming_normal_.\n",
      "  nn.init.kaiming_normal(m.weight.data)\n",
      "C:\\Users\\Benny\\Anaconda3\\envs\\fastai\\lib\\site-packages\\torchvision\\models\\densenet.py:212: UserWarning: nn.init.kaiming_normal is now deprecated in favor of nn.init.kaiming_normal_.\n",
      "  nn.init.kaiming_normal(m.weight.data)\n",
      "C:\\Users\\Benny\\Anaconda3\\envs\\fastai\\lib\\site-packages\\torchvision\\models\\densenet.py:212: UserWarning: nn.init.kaiming_normal is now deprecated in favor of nn.init.kaiming_normal_.\n",
      "  nn.init.kaiming_normal(m.weight.data)\n",
      "C:\\Users\\Benny\\Anaconda3\\envs\\fastai\\lib\\site-packages\\torchvision\\models\\densenet.py:212: UserWarning: nn.init.kaiming_normal is now deprecated in favor of nn.init.kaiming_normal_.\n",
      "  nn.init.kaiming_normal(m.weight.data)\n",
      "C:\\Users\\Benny\\Anaconda3\\envs\\fastai\\lib\\site-packages\\torchvision\\models\\densenet.py:212: UserWarning: nn.init.kaiming_normal is now deprecated in favor of nn.init.kaiming_normal_.\n",
      "  nn.init.kaiming_normal(m.weight.data)\n",
      "C:\\Users\\Benny\\Anaconda3\\envs\\fastai\\lib\\site-packages\\torchvision\\models\\densenet.py:212: UserWarning: nn.init.kaiming_normal is now deprecated in favor of nn.init.kaiming_normal_.\n",
      "  nn.init.kaiming_normal(m.weight.data)\n",
      "C:\\Users\\Benny\\Anaconda3\\envs\\fastai\\lib\\site-packages\\torchvision\\models\\densenet.py:212: UserWarning: nn.init.kaiming_normal is now deprecated in favor of nn.init.kaiming_normal_.\n",
      "  nn.init.kaiming_normal(m.weight.data)\n",
      "C:\\Users\\Benny\\Anaconda3\\envs\\fastai\\lib\\site-packages\\torchvision\\models\\densenet.py:212: UserWarning: nn.init.kaiming_normal is now deprecated in favor of nn.init.kaiming_normal_.\n",
      "  nn.init.kaiming_normal(m.weight.data)\n",
      "C:\\Users\\Benny\\Anaconda3\\envs\\fastai\\lib\\site-packages\\torchvision\\models\\densenet.py:212: UserWarning: nn.init.kaiming_normal is now deprecated in favor of nn.init.kaiming_normal_.\n",
      "  nn.init.kaiming_normal(m.weight.data)\n",
      "C:\\Users\\Benny\\Anaconda3\\envs\\fastai\\lib\\site-packages\\torchvision\\models\\densenet.py:212: UserWarning: nn.init.kaiming_normal is now deprecated in favor of nn.init.kaiming_normal_.\n",
      "  nn.init.kaiming_normal(m.weight.data)\n",
      "C:\\Users\\Benny\\Anaconda3\\envs\\fastai\\lib\\site-packages\\torchvision\\models\\densenet.py:212: UserWarning: nn.init.kaiming_normal is now deprecated in favor of nn.init.kaiming_normal_.\n",
      "  nn.init.kaiming_normal(m.weight.data)\n",
      "C:\\Users\\Benny\\Anaconda3\\envs\\fastai\\lib\\site-packages\\torchvision\\models\\densenet.py:212: UserWarning: nn.init.kaiming_normal is now deprecated in favor of nn.init.kaiming_normal_.\n",
      "  nn.init.kaiming_normal(m.weight.data)\n",
      "C:\\Users\\Benny\\Anaconda3\\envs\\fastai\\lib\\site-packages\\torchvision\\models\\densenet.py:212: UserWarning: nn.init.kaiming_normal is now deprecated in favor of nn.init.kaiming_normal_.\n",
      "  nn.init.kaiming_normal(m.weight.data)\n",
      "C:\\Users\\Benny\\Anaconda3\\envs\\fastai\\lib\\site-packages\\torchvision\\models\\densenet.py:212: UserWarning: nn.init.kaiming_normal is now deprecated in favor of nn.init.kaiming_normal_.\n",
      "  nn.init.kaiming_normal(m.weight.data)\n",
      "C:\\Users\\Benny\\Anaconda3\\envs\\fastai\\lib\\site-packages\\torchvision\\models\\densenet.py:212: UserWarning: nn.init.kaiming_normal is now deprecated in favor of nn.init.kaiming_normal_.\n",
      "  nn.init.kaiming_normal(m.weight.data)\n",
      "C:\\Users\\Benny\\Anaconda3\\envs\\fastai\\lib\\site-packages\\torchvision\\models\\densenet.py:212: UserWarning: nn.init.kaiming_normal is now deprecated in favor of nn.init.kaiming_normal_.\n",
      "  nn.init.kaiming_normal(m.weight.data)\n",
      "C:\\Users\\Benny\\Anaconda3\\envs\\fastai\\lib\\site-packages\\torchvision\\models\\densenet.py:212: UserWarning: nn.init.kaiming_normal is now deprecated in favor of nn.init.kaiming_normal_.\n",
      "  nn.init.kaiming_normal(m.weight.data)\n",
      "C:\\Users\\Benny\\Anaconda3\\envs\\fastai\\lib\\site-packages\\torchvision\\models\\densenet.py:212: UserWarning: nn.init.kaiming_normal is now deprecated in favor of nn.init.kaiming_normal_.\n",
      "  nn.init.kaiming_normal(m.weight.data)\n",
      "C:\\Users\\Benny\\Anaconda3\\envs\\fastai\\lib\\site-packages\\torchvision\\models\\densenet.py:212: UserWarning: nn.init.kaiming_normal is now deprecated in favor of nn.init.kaiming_normal_.\n",
      "  nn.init.kaiming_normal(m.weight.data)\n",
      "C:\\Users\\Benny\\Anaconda3\\envs\\fastai\\lib\\site-packages\\torchvision\\models\\densenet.py:212: UserWarning: nn.init.kaiming_normal is now deprecated in favor of nn.init.kaiming_normal_.\n",
      "  nn.init.kaiming_normal(m.weight.data)\n",
      "C:\\Users\\Benny\\Anaconda3\\envs\\fastai\\lib\\site-packages\\torchvision\\models\\densenet.py:212: UserWarning: nn.init.kaiming_normal is now deprecated in favor of nn.init.kaiming_normal_.\n",
      "  nn.init.kaiming_normal(m.weight.data)\n",
      "C:\\Users\\Benny\\Anaconda3\\envs\\fastai\\lib\\site-packages\\torchvision\\models\\densenet.py:212: UserWarning: nn.init.kaiming_normal is now deprecated in favor of nn.init.kaiming_normal_.\n",
      "  nn.init.kaiming_normal(m.weight.data)\n",
      "C:\\Users\\Benny\\Anaconda3\\envs\\fastai\\lib\\site-packages\\torchvision\\models\\densenet.py:212: UserWarning: nn.init.kaiming_normal is now deprecated in favor of nn.init.kaiming_normal_.\n",
      "  nn.init.kaiming_normal(m.weight.data)\n",
      "C:\\Users\\Benny\\Anaconda3\\envs\\fastai\\lib\\site-packages\\torchvision\\models\\densenet.py:212: UserWarning: nn.init.kaiming_normal is now deprecated in favor of nn.init.kaiming_normal_.\n",
      "  nn.init.kaiming_normal(m.weight.data)\n",
      "C:\\Users\\Benny\\Anaconda3\\envs\\fastai\\lib\\site-packages\\torchvision\\models\\densenet.py:212: UserWarning: nn.init.kaiming_normal is now deprecated in favor of nn.init.kaiming_normal_.\n",
      "  nn.init.kaiming_normal(m.weight.data)\n",
      "C:\\Users\\Benny\\Anaconda3\\envs\\fastai\\lib\\site-packages\\torchvision\\models\\densenet.py:212: UserWarning: nn.init.kaiming_normal is now deprecated in favor of nn.init.kaiming_normal_.\n",
      "  nn.init.kaiming_normal(m.weight.data)\n",
      "C:\\Users\\Benny\\Anaconda3\\envs\\fastai\\lib\\site-packages\\torchvision\\models\\densenet.py:212: UserWarning: nn.init.kaiming_normal is now deprecated in favor of nn.init.kaiming_normal_.\n",
      "  nn.init.kaiming_normal(m.weight.data)\n",
      "C:\\Users\\Benny\\Anaconda3\\envs\\fastai\\lib\\site-packages\\torchvision\\models\\densenet.py:212: UserWarning: nn.init.kaiming_normal is now deprecated in favor of nn.init.kaiming_normal_.\n",
      "  nn.init.kaiming_normal(m.weight.data)\n",
      "C:\\Users\\Benny\\Anaconda3\\envs\\fastai\\lib\\site-packages\\torchvision\\models\\densenet.py:212: UserWarning: nn.init.kaiming_normal is now deprecated in favor of nn.init.kaiming_normal_.\n",
      "  nn.init.kaiming_normal(m.weight.data)\n"
     ]
    },
    {
     "name": "stderr",
     "output_type": "stream",
     "text": [
      "C:\\Users\\Benny\\Anaconda3\\envs\\fastai\\lib\\site-packages\\torchvision\\models\\densenet.py:212: UserWarning: nn.init.kaiming_normal is now deprecated in favor of nn.init.kaiming_normal_.\n",
      "  nn.init.kaiming_normal(m.weight.data)\n",
      "C:\\Users\\Benny\\Anaconda3\\envs\\fastai\\lib\\site-packages\\torchvision\\models\\densenet.py:212: UserWarning: nn.init.kaiming_normal is now deprecated in favor of nn.init.kaiming_normal_.\n",
      "  nn.init.kaiming_normal(m.weight.data)\n",
      "C:\\Users\\Benny\\Anaconda3\\envs\\fastai\\lib\\site-packages\\torchvision\\models\\densenet.py:212: UserWarning: nn.init.kaiming_normal is now deprecated in favor of nn.init.kaiming_normal_.\n",
      "  nn.init.kaiming_normal(m.weight.data)\n",
      "C:\\Users\\Benny\\Anaconda3\\envs\\fastai\\lib\\site-packages\\torchvision\\models\\densenet.py:212: UserWarning: nn.init.kaiming_normal is now deprecated in favor of nn.init.kaiming_normal_.\n",
      "  nn.init.kaiming_normal(m.weight.data)\n",
      "C:\\Users\\Benny\\Anaconda3\\envs\\fastai\\lib\\site-packages\\torchvision\\models\\densenet.py:212: UserWarning: nn.init.kaiming_normal is now deprecated in favor of nn.init.kaiming_normal_.\n",
      "  nn.init.kaiming_normal(m.weight.data)\n",
      "C:\\Users\\Benny\\Anaconda3\\envs\\fastai\\lib\\site-packages\\torchvision\\models\\densenet.py:212: UserWarning: nn.init.kaiming_normal is now deprecated in favor of nn.init.kaiming_normal_.\n",
      "  nn.init.kaiming_normal(m.weight.data)\n",
      "C:\\Users\\Benny\\Anaconda3\\envs\\fastai\\lib\\site-packages\\torchvision\\models\\densenet.py:212: UserWarning: nn.init.kaiming_normal is now deprecated in favor of nn.init.kaiming_normal_.\n",
      "  nn.init.kaiming_normal(m.weight.data)\n",
      "C:\\Users\\Benny\\Anaconda3\\envs\\fastai\\lib\\site-packages\\torchvision\\models\\densenet.py:212: UserWarning: nn.init.kaiming_normal is now deprecated in favor of nn.init.kaiming_normal_.\n",
      "  nn.init.kaiming_normal(m.weight.data)\n",
      "C:\\Users\\Benny\\Anaconda3\\envs\\fastai\\lib\\site-packages\\torchvision\\models\\densenet.py:212: UserWarning: nn.init.kaiming_normal is now deprecated in favor of nn.init.kaiming_normal_.\n",
      "  nn.init.kaiming_normal(m.weight.data)\n",
      "C:\\Users\\Benny\\Anaconda3\\envs\\fastai\\lib\\site-packages\\torchvision\\models\\densenet.py:212: UserWarning: nn.init.kaiming_normal is now deprecated in favor of nn.init.kaiming_normal_.\n",
      "  nn.init.kaiming_normal(m.weight.data)\n",
      "C:\\Users\\Benny\\Anaconda3\\envs\\fastai\\lib\\site-packages\\torchvision\\models\\densenet.py:212: UserWarning: nn.init.kaiming_normal is now deprecated in favor of nn.init.kaiming_normal_.\n",
      "  nn.init.kaiming_normal(m.weight.data)\n",
      "C:\\Users\\Benny\\Anaconda3\\envs\\fastai\\lib\\site-packages\\torchvision\\models\\densenet.py:212: UserWarning: nn.init.kaiming_normal is now deprecated in favor of nn.init.kaiming_normal_.\n",
      "  nn.init.kaiming_normal(m.weight.data)\n",
      "C:\\Users\\Benny\\Anaconda3\\envs\\fastai\\lib\\site-packages\\torchvision\\models\\densenet.py:212: UserWarning: nn.init.kaiming_normal is now deprecated in favor of nn.init.kaiming_normal_.\n",
      "  nn.init.kaiming_normal(m.weight.data)\n",
      "C:\\Users\\Benny\\Anaconda3\\envs\\fastai\\lib\\site-packages\\torchvision\\models\\densenet.py:212: UserWarning: nn.init.kaiming_normal is now deprecated in favor of nn.init.kaiming_normal_.\n",
      "  nn.init.kaiming_normal(m.weight.data)\n",
      "C:\\Users\\Benny\\Anaconda3\\envs\\fastai\\lib\\site-packages\\torchvision\\models\\densenet.py:212: UserWarning: nn.init.kaiming_normal is now deprecated in favor of nn.init.kaiming_normal_.\n",
      "  nn.init.kaiming_normal(m.weight.data)\n",
      "C:\\Users\\Benny\\Anaconda3\\envs\\fastai\\lib\\site-packages\\torchvision\\models\\densenet.py:212: UserWarning: nn.init.kaiming_normal is now deprecated in favor of nn.init.kaiming_normal_.\n",
      "  nn.init.kaiming_normal(m.weight.data)\n",
      "C:\\Users\\Benny\\Anaconda3\\envs\\fastai\\lib\\site-packages\\torchvision\\models\\densenet.py:212: UserWarning: nn.init.kaiming_normal is now deprecated in favor of nn.init.kaiming_normal_.\n",
      "  nn.init.kaiming_normal(m.weight.data)\n",
      "C:\\Users\\Benny\\Anaconda3\\envs\\fastai\\lib\\site-packages\\torchvision\\models\\densenet.py:212: UserWarning: nn.init.kaiming_normal is now deprecated in favor of nn.init.kaiming_normal_.\n",
      "  nn.init.kaiming_normal(m.weight.data)\n",
      "C:\\Users\\Benny\\Anaconda3\\envs\\fastai\\lib\\site-packages\\torchvision\\models\\densenet.py:212: UserWarning: nn.init.kaiming_normal is now deprecated in favor of nn.init.kaiming_normal_.\n",
      "  nn.init.kaiming_normal(m.weight.data)\n",
      "C:\\Users\\Benny\\Anaconda3\\envs\\fastai\\lib\\site-packages\\torchvision\\models\\densenet.py:212: UserWarning: nn.init.kaiming_normal is now deprecated in favor of nn.init.kaiming_normal_.\n",
      "  nn.init.kaiming_normal(m.weight.data)\n",
      "C:\\Users\\Benny\\Anaconda3\\envs\\fastai\\lib\\site-packages\\torchvision\\models\\densenet.py:212: UserWarning: nn.init.kaiming_normal is now deprecated in favor of nn.init.kaiming_normal_.\n",
      "  nn.init.kaiming_normal(m.weight.data)\n",
      "C:\\Users\\Benny\\Anaconda3\\envs\\fastai\\lib\\site-packages\\torchvision\\models\\densenet.py:212: UserWarning: nn.init.kaiming_normal is now deprecated in favor of nn.init.kaiming_normal_.\n",
      "  nn.init.kaiming_normal(m.weight.data)\n",
      "C:\\Users\\Benny\\Anaconda3\\envs\\fastai\\lib\\site-packages\\torchvision\\models\\densenet.py:212: UserWarning: nn.init.kaiming_normal is now deprecated in favor of nn.init.kaiming_normal_.\n",
      "  nn.init.kaiming_normal(m.weight.data)\n",
      "C:\\Users\\Benny\\Anaconda3\\envs\\fastai\\lib\\site-packages\\torchvision\\models\\densenet.py:212: UserWarning: nn.init.kaiming_normal is now deprecated in favor of nn.init.kaiming_normal_.\n",
      "  nn.init.kaiming_normal(m.weight.data)\n",
      "C:\\Users\\Benny\\Anaconda3\\envs\\fastai\\lib\\site-packages\\torchvision\\models\\densenet.py:212: UserWarning: nn.init.kaiming_normal is now deprecated in favor of nn.init.kaiming_normal_.\n",
      "  nn.init.kaiming_normal(m.weight.data)\n",
      "C:\\Users\\Benny\\Anaconda3\\envs\\fastai\\lib\\site-packages\\torchvision\\models\\densenet.py:212: UserWarning: nn.init.kaiming_normal is now deprecated in favor of nn.init.kaiming_normal_.\n",
      "  nn.init.kaiming_normal(m.weight.data)\n",
      "C:\\Users\\Benny\\Anaconda3\\envs\\fastai\\lib\\site-packages\\torchvision\\models\\densenet.py:212: UserWarning: nn.init.kaiming_normal is now deprecated in favor of nn.init.kaiming_normal_.\n",
      "  nn.init.kaiming_normal(m.weight.data)\n",
      "C:\\Users\\Benny\\Anaconda3\\envs\\fastai\\lib\\site-packages\\torchvision\\models\\densenet.py:212: UserWarning: nn.init.kaiming_normal is now deprecated in favor of nn.init.kaiming_normal_.\n",
      "  nn.init.kaiming_normal(m.weight.data)\n",
      "C:\\Users\\Benny\\Anaconda3\\envs\\fastai\\lib\\site-packages\\torchvision\\models\\densenet.py:212: UserWarning: nn.init.kaiming_normal is now deprecated in favor of nn.init.kaiming_normal_.\n",
      "  nn.init.kaiming_normal(m.weight.data)\n",
      "C:\\Users\\Benny\\Anaconda3\\envs\\fastai\\lib\\site-packages\\torchvision\\models\\densenet.py:212: UserWarning: nn.init.kaiming_normal is now deprecated in favor of nn.init.kaiming_normal_.\n",
      "  nn.init.kaiming_normal(m.weight.data)\n",
      "C:\\Users\\Benny\\Anaconda3\\envs\\fastai\\lib\\site-packages\\torchvision\\models\\densenet.py:212: UserWarning: nn.init.kaiming_normal is now deprecated in favor of nn.init.kaiming_normal_.\n",
      "  nn.init.kaiming_normal(m.weight.data)\n",
      "C:\\Users\\Benny\\Anaconda3\\envs\\fastai\\lib\\site-packages\\torchvision\\models\\densenet.py:212: UserWarning: nn.init.kaiming_normal is now deprecated in favor of nn.init.kaiming_normal_.\n",
      "  nn.init.kaiming_normal(m.weight.data)\n",
      "C:\\Users\\Benny\\Anaconda3\\envs\\fastai\\lib\\site-packages\\torchvision\\models\\densenet.py:212: UserWarning: nn.init.kaiming_normal is now deprecated in favor of nn.init.kaiming_normal_.\n",
      "  nn.init.kaiming_normal(m.weight.data)\n",
      "C:\\Users\\Benny\\Anaconda3\\envs\\fastai\\lib\\site-packages\\torchvision\\models\\densenet.py:212: UserWarning: nn.init.kaiming_normal is now deprecated in favor of nn.init.kaiming_normal_.\n",
      "  nn.init.kaiming_normal(m.weight.data)\n",
      "C:\\Users\\Benny\\Anaconda3\\envs\\fastai\\lib\\site-packages\\torchvision\\models\\densenet.py:212: UserWarning: nn.init.kaiming_normal is now deprecated in favor of nn.init.kaiming_normal_.\n",
      "  nn.init.kaiming_normal(m.weight.data)\n",
      "C:\\Users\\Benny\\Anaconda3\\envs\\fastai\\lib\\site-packages\\torchvision\\models\\densenet.py:212: UserWarning: nn.init.kaiming_normal is now deprecated in favor of nn.init.kaiming_normal_.\n",
      "  nn.init.kaiming_normal(m.weight.data)\n",
      "C:\\Users\\Benny\\Anaconda3\\envs\\fastai\\lib\\site-packages\\torchvision\\models\\densenet.py:212: UserWarning: nn.init.kaiming_normal is now deprecated in favor of nn.init.kaiming_normal_.\n",
      "  nn.init.kaiming_normal(m.weight.data)\n"
     ]
    },
    {
     "name": "stderr",
     "output_type": "stream",
     "text": [
      "C:\\Users\\Benny\\Anaconda3\\envs\\fastai\\lib\\site-packages\\torchvision\\models\\densenet.py:212: UserWarning: nn.init.kaiming_normal is now deprecated in favor of nn.init.kaiming_normal_.\n",
      "  nn.init.kaiming_normal(m.weight.data)\n",
      "C:\\Users\\Benny\\Anaconda3\\envs\\fastai\\lib\\site-packages\\torchvision\\models\\densenet.py:212: UserWarning: nn.init.kaiming_normal is now deprecated in favor of nn.init.kaiming_normal_.\n",
      "  nn.init.kaiming_normal(m.weight.data)\n",
      "C:\\Users\\Benny\\Anaconda3\\envs\\fastai\\lib\\site-packages\\torchvision\\models\\densenet.py:212: UserWarning: nn.init.kaiming_normal is now deprecated in favor of nn.init.kaiming_normal_.\n",
      "  nn.init.kaiming_normal(m.weight.data)\n",
      "C:\\Users\\Benny\\Anaconda3\\envs\\fastai\\lib\\site-packages\\torchvision\\models\\densenet.py:212: UserWarning: nn.init.kaiming_normal is now deprecated in favor of nn.init.kaiming_normal_.\n",
      "  nn.init.kaiming_normal(m.weight.data)\n",
      "C:\\Users\\Benny\\Anaconda3\\envs\\fastai\\lib\\site-packages\\torchvision\\models\\densenet.py:212: UserWarning: nn.init.kaiming_normal is now deprecated in favor of nn.init.kaiming_normal_.\n",
      "  nn.init.kaiming_normal(m.weight.data)\n",
      "C:\\Users\\Benny\\Anaconda3\\envs\\fastai\\lib\\site-packages\\torchvision\\models\\densenet.py:212: UserWarning: nn.init.kaiming_normal is now deprecated in favor of nn.init.kaiming_normal_.\n",
      "  nn.init.kaiming_normal(m.weight.data)\n",
      "C:\\Users\\Benny\\Anaconda3\\envs\\fastai\\lib\\site-packages\\torchvision\\models\\densenet.py:212: UserWarning: nn.init.kaiming_normal is now deprecated in favor of nn.init.kaiming_normal_.\n",
      "  nn.init.kaiming_normal(m.weight.data)\n",
      "C:\\Users\\Benny\\Anaconda3\\envs\\fastai\\lib\\site-packages\\torchvision\\models\\densenet.py:212: UserWarning: nn.init.kaiming_normal is now deprecated in favor of nn.init.kaiming_normal_.\n",
      "  nn.init.kaiming_normal(m.weight.data)\n",
      "C:\\Users\\Benny\\Anaconda3\\envs\\fastai\\lib\\site-packages\\torchvision\\models\\densenet.py:212: UserWarning: nn.init.kaiming_normal is now deprecated in favor of nn.init.kaiming_normal_.\n",
      "  nn.init.kaiming_normal(m.weight.data)\n",
      "C:\\Users\\Benny\\Anaconda3\\envs\\fastai\\lib\\site-packages\\torchvision\\models\\densenet.py:212: UserWarning: nn.init.kaiming_normal is now deprecated in favor of nn.init.kaiming_normal_.\n",
      "  nn.init.kaiming_normal(m.weight.data)\n",
      "C:\\Users\\Benny\\Anaconda3\\envs\\fastai\\lib\\site-packages\\torchvision\\models\\densenet.py:212: UserWarning: nn.init.kaiming_normal is now deprecated in favor of nn.init.kaiming_normal_.\n",
      "  nn.init.kaiming_normal(m.weight.data)\n",
      "C:\\Users\\Benny\\Anaconda3\\envs\\fastai\\lib\\site-packages\\torchvision\\models\\densenet.py:212: UserWarning: nn.init.kaiming_normal is now deprecated in favor of nn.init.kaiming_normal_.\n",
      "  nn.init.kaiming_normal(m.weight.data)\n",
      "C:\\Users\\Benny\\Anaconda3\\envs\\fastai\\lib\\site-packages\\torchvision\\models\\densenet.py:212: UserWarning: nn.init.kaiming_normal is now deprecated in favor of nn.init.kaiming_normal_.\n",
      "  nn.init.kaiming_normal(m.weight.data)\n",
      "C:\\Users\\Benny\\Anaconda3\\envs\\fastai\\lib\\site-packages\\torchvision\\models\\densenet.py:212: UserWarning: nn.init.kaiming_normal is now deprecated in favor of nn.init.kaiming_normal_.\n",
      "  nn.init.kaiming_normal(m.weight.data)\n",
      "C:\\Users\\Benny\\Anaconda3\\envs\\fastai\\lib\\site-packages\\torchvision\\models\\densenet.py:212: UserWarning: nn.init.kaiming_normal is now deprecated in favor of nn.init.kaiming_normal_.\n",
      "  nn.init.kaiming_normal(m.weight.data)\n",
      "C:\\Users\\Benny\\Anaconda3\\envs\\fastai\\lib\\site-packages\\torchvision\\models\\densenet.py:212: UserWarning: nn.init.kaiming_normal is now deprecated in favor of nn.init.kaiming_normal_.\n",
      "  nn.init.kaiming_normal(m.weight.data)\n",
      "C:\\Users\\Benny\\Anaconda3\\envs\\fastai\\lib\\site-packages\\torchvision\\models\\densenet.py:212: UserWarning: nn.init.kaiming_normal is now deprecated in favor of nn.init.kaiming_normal_.\n",
      "  nn.init.kaiming_normal(m.weight.data)\n",
      "C:\\Users\\Benny\\Anaconda3\\envs\\fastai\\lib\\site-packages\\torchvision\\models\\densenet.py:212: UserWarning: nn.init.kaiming_normal is now deprecated in favor of nn.init.kaiming_normal_.\n",
      "  nn.init.kaiming_normal(m.weight.data)\n",
      "C:\\Users\\Benny\\Anaconda3\\envs\\fastai\\lib\\site-packages\\torchvision\\models\\densenet.py:212: UserWarning: nn.init.kaiming_normal is now deprecated in favor of nn.init.kaiming_normal_.\n",
      "  nn.init.kaiming_normal(m.weight.data)\n",
      "C:\\Users\\Benny\\Anaconda3\\envs\\fastai\\lib\\site-packages\\torchvision\\models\\densenet.py:212: UserWarning: nn.init.kaiming_normal is now deprecated in favor of nn.init.kaiming_normal_.\n",
      "  nn.init.kaiming_normal(m.weight.data)\n",
      "C:\\Users\\Benny\\Anaconda3\\envs\\fastai\\lib\\site-packages\\torchvision\\models\\densenet.py:212: UserWarning: nn.init.kaiming_normal is now deprecated in favor of nn.init.kaiming_normal_.\n",
      "  nn.init.kaiming_normal(m.weight.data)\n",
      "C:\\Users\\Benny\\Anaconda3\\envs\\fastai\\lib\\site-packages\\torchvision\\models\\densenet.py:212: UserWarning: nn.init.kaiming_normal is now deprecated in favor of nn.init.kaiming_normal_.\n",
      "  nn.init.kaiming_normal(m.weight.data)\n",
      "C:\\Users\\Benny\\Anaconda3\\envs\\fastai\\lib\\site-packages\\torchvision\\models\\densenet.py:212: UserWarning: nn.init.kaiming_normal is now deprecated in favor of nn.init.kaiming_normal_.\n",
      "  nn.init.kaiming_normal(m.weight.data)\n",
      "C:\\Users\\Benny\\Anaconda3\\envs\\fastai\\lib\\site-packages\\torchvision\\models\\densenet.py:212: UserWarning: nn.init.kaiming_normal is now deprecated in favor of nn.init.kaiming_normal_.\n",
      "  nn.init.kaiming_normal(m.weight.data)\n",
      "C:\\Users\\Benny\\Anaconda3\\envs\\fastai\\lib\\site-packages\\torchvision\\models\\densenet.py:212: UserWarning: nn.init.kaiming_normal is now deprecated in favor of nn.init.kaiming_normal_.\n",
      "  nn.init.kaiming_normal(m.weight.data)\n",
      "C:\\Users\\Benny\\Anaconda3\\envs\\fastai\\lib\\site-packages\\torchvision\\models\\densenet.py:212: UserWarning: nn.init.kaiming_normal is now deprecated in favor of nn.init.kaiming_normal_.\n",
      "  nn.init.kaiming_normal(m.weight.data)\n",
      "C:\\Users\\Benny\\Anaconda3\\envs\\fastai\\lib\\site-packages\\torchvision\\models\\densenet.py:212: UserWarning: nn.init.kaiming_normal is now deprecated in favor of nn.init.kaiming_normal_.\n",
      "  nn.init.kaiming_normal(m.weight.data)\n",
      "C:\\Users\\Benny\\Anaconda3\\envs\\fastai\\lib\\site-packages\\torchvision\\models\\densenet.py:212: UserWarning: nn.init.kaiming_normal is now deprecated in favor of nn.init.kaiming_normal_.\n",
      "  nn.init.kaiming_normal(m.weight.data)\n",
      "C:\\Users\\Benny\\Anaconda3\\envs\\fastai\\lib\\site-packages\\torchvision\\models\\densenet.py:212: UserWarning: nn.init.kaiming_normal is now deprecated in favor of nn.init.kaiming_normal_.\n",
      "  nn.init.kaiming_normal(m.weight.data)\n",
      "C:\\Users\\Benny\\Anaconda3\\envs\\fastai\\lib\\site-packages\\torchvision\\models\\densenet.py:212: UserWarning: nn.init.kaiming_normal is now deprecated in favor of nn.init.kaiming_normal_.\n",
      "  nn.init.kaiming_normal(m.weight.data)\n",
      "C:\\Users\\Benny\\Anaconda3\\envs\\fastai\\lib\\site-packages\\torchvision\\models\\densenet.py:212: UserWarning: nn.init.kaiming_normal is now deprecated in favor of nn.init.kaiming_normal_.\n",
      "  nn.init.kaiming_normal(m.weight.data)\n",
      "C:\\Users\\Benny\\Anaconda3\\envs\\fastai\\lib\\site-packages\\torchvision\\models\\densenet.py:212: UserWarning: nn.init.kaiming_normal is now deprecated in favor of nn.init.kaiming_normal_.\n",
      "  nn.init.kaiming_normal(m.weight.data)\n",
      "C:\\Users\\Benny\\Anaconda3\\envs\\fastai\\lib\\site-packages\\torchvision\\models\\densenet.py:212: UserWarning: nn.init.kaiming_normal is now deprecated in favor of nn.init.kaiming_normal_.\n",
      "  nn.init.kaiming_normal(m.weight.data)\n",
      "C:\\Users\\Benny\\Anaconda3\\envs\\fastai\\lib\\site-packages\\torchvision\\models\\densenet.py:212: UserWarning: nn.init.kaiming_normal is now deprecated in favor of nn.init.kaiming_normal_.\n",
      "  nn.init.kaiming_normal(m.weight.data)\n",
      "C:\\Users\\Benny\\Anaconda3\\envs\\fastai\\lib\\site-packages\\torchvision\\models\\densenet.py:212: UserWarning: nn.init.kaiming_normal is now deprecated in favor of nn.init.kaiming_normal_.\n",
      "  nn.init.kaiming_normal(m.weight.data)\n",
      "C:\\Users\\Benny\\Anaconda3\\envs\\fastai\\lib\\site-packages\\torchvision\\models\\densenet.py:212: UserWarning: nn.init.kaiming_normal is now deprecated in favor of nn.init.kaiming_normal_.\n",
      "  nn.init.kaiming_normal(m.weight.data)\n",
      "C:\\Users\\Benny\\Anaconda3\\envs\\fastai\\lib\\site-packages\\torchvision\\models\\densenet.py:212: UserWarning: nn.init.kaiming_normal is now deprecated in favor of nn.init.kaiming_normal_.\n",
      "  nn.init.kaiming_normal(m.weight.data)\n"
     ]
    },
    {
     "name": "stderr",
     "output_type": "stream",
     "text": [
      "C:\\Users\\Benny\\Anaconda3\\envs\\fastai\\lib\\site-packages\\torchvision\\models\\densenet.py:212: UserWarning: nn.init.kaiming_normal is now deprecated in favor of nn.init.kaiming_normal_.\n",
      "  nn.init.kaiming_normal(m.weight.data)\n",
      "C:\\Users\\Benny\\Anaconda3\\envs\\fastai\\lib\\site-packages\\torchvision\\models\\densenet.py:212: UserWarning: nn.init.kaiming_normal is now deprecated in favor of nn.init.kaiming_normal_.\n",
      "  nn.init.kaiming_normal(m.weight.data)\n",
      "C:\\Users\\Benny\\Anaconda3\\envs\\fastai\\lib\\site-packages\\torchvision\\models\\densenet.py:212: UserWarning: nn.init.kaiming_normal is now deprecated in favor of nn.init.kaiming_normal_.\n",
      "  nn.init.kaiming_normal(m.weight.data)\n",
      "C:\\Users\\Benny\\Anaconda3\\envs\\fastai\\lib\\site-packages\\torchvision\\models\\densenet.py:212: UserWarning: nn.init.kaiming_normal is now deprecated in favor of nn.init.kaiming_normal_.\n",
      "  nn.init.kaiming_normal(m.weight.data)\n",
      "C:\\Users\\Benny\\Anaconda3\\envs\\fastai\\lib\\site-packages\\torchvision\\models\\densenet.py:212: UserWarning: nn.init.kaiming_normal is now deprecated in favor of nn.init.kaiming_normal_.\n",
      "  nn.init.kaiming_normal(m.weight.data)\n",
      "C:\\Users\\Benny\\Anaconda3\\envs\\fastai\\lib\\site-packages\\torchvision\\models\\densenet.py:212: UserWarning: nn.init.kaiming_normal is now deprecated in favor of nn.init.kaiming_normal_.\n",
      "  nn.init.kaiming_normal(m.weight.data)\n",
      "C:\\Users\\Benny\\Anaconda3\\envs\\fastai\\lib\\site-packages\\torchvision\\models\\densenet.py:212: UserWarning: nn.init.kaiming_normal is now deprecated in favor of nn.init.kaiming_normal_.\n",
      "  nn.init.kaiming_normal(m.weight.data)\n",
      "C:\\Users\\Benny\\Anaconda3\\envs\\fastai\\lib\\site-packages\\torchvision\\models\\densenet.py:212: UserWarning: nn.init.kaiming_normal is now deprecated in favor of nn.init.kaiming_normal_.\n",
      "  nn.init.kaiming_normal(m.weight.data)\n",
      "C:\\Users\\Benny\\Anaconda3\\envs\\fastai\\lib\\site-packages\\torchvision\\models\\densenet.py:212: UserWarning: nn.init.kaiming_normal is now deprecated in favor of nn.init.kaiming_normal_.\n",
      "  nn.init.kaiming_normal(m.weight.data)\n",
      "C:\\Users\\Benny\\Anaconda3\\envs\\fastai\\lib\\site-packages\\torchvision\\models\\densenet.py:212: UserWarning: nn.init.kaiming_normal is now deprecated in favor of nn.init.kaiming_normal_.\n",
      "  nn.init.kaiming_normal(m.weight.data)\n",
      "C:\\Users\\Benny\\Anaconda3\\envs\\fastai\\lib\\site-packages\\torchvision\\models\\densenet.py:212: UserWarning: nn.init.kaiming_normal is now deprecated in favor of nn.init.kaiming_normal_.\n",
      "  nn.init.kaiming_normal(m.weight.data)\n",
      "C:\\Users\\Benny\\Anaconda3\\envs\\fastai\\lib\\site-packages\\torchvision\\models\\densenet.py:212: UserWarning: nn.init.kaiming_normal is now deprecated in favor of nn.init.kaiming_normal_.\n",
      "  nn.init.kaiming_normal(m.weight.data)\n",
      "C:\\Users\\Benny\\Anaconda3\\envs\\fastai\\lib\\site-packages\\torchvision\\models\\densenet.py:212: UserWarning: nn.init.kaiming_normal is now deprecated in favor of nn.init.kaiming_normal_.\n",
      "  nn.init.kaiming_normal(m.weight.data)\n",
      "C:\\Users\\Benny\\Anaconda3\\envs\\fastai\\lib\\site-packages\\torchvision\\models\\densenet.py:212: UserWarning: nn.init.kaiming_normal is now deprecated in favor of nn.init.kaiming_normal_.\n",
      "  nn.init.kaiming_normal(m.weight.data)\n",
      "C:\\Users\\Benny\\Anaconda3\\envs\\fastai\\lib\\site-packages\\torchvision\\models\\densenet.py:212: UserWarning: nn.init.kaiming_normal is now deprecated in favor of nn.init.kaiming_normal_.\n",
      "  nn.init.kaiming_normal(m.weight.data)\n",
      "C:\\Users\\Benny\\Anaconda3\\envs\\fastai\\lib\\site-packages\\torchvision\\models\\densenet.py:212: UserWarning: nn.init.kaiming_normal is now deprecated in favor of nn.init.kaiming_normal_.\n",
      "  nn.init.kaiming_normal(m.weight.data)\n",
      "C:\\Users\\Benny\\Anaconda3\\envs\\fastai\\lib\\site-packages\\torchvision\\models\\densenet.py:212: UserWarning: nn.init.kaiming_normal is now deprecated in favor of nn.init.kaiming_normal_.\n",
      "  nn.init.kaiming_normal(m.weight.data)\n",
      "C:\\Users\\Benny\\Anaconda3\\envs\\fastai\\lib\\site-packages\\torchvision\\models\\densenet.py:212: UserWarning: nn.init.kaiming_normal is now deprecated in favor of nn.init.kaiming_normal_.\n",
      "  nn.init.kaiming_normal(m.weight.data)\n",
      "C:\\Users\\Benny\\Anaconda3\\envs\\fastai\\lib\\site-packages\\torchvision\\models\\densenet.py:212: UserWarning: nn.init.kaiming_normal is now deprecated in favor of nn.init.kaiming_normal_.\n",
      "  nn.init.kaiming_normal(m.weight.data)\n",
      "C:\\Users\\Benny\\Anaconda3\\envs\\fastai\\lib\\site-packages\\torchvision\\models\\densenet.py:212: UserWarning: nn.init.kaiming_normal is now deprecated in favor of nn.init.kaiming_normal_.\n",
      "  nn.init.kaiming_normal(m.weight.data)\n",
      "C:\\Users\\Benny\\Anaconda3\\envs\\fastai\\lib\\site-packages\\torchvision\\models\\densenet.py:212: UserWarning: nn.init.kaiming_normal is now deprecated in favor of nn.init.kaiming_normal_.\n",
      "  nn.init.kaiming_normal(m.weight.data)\n",
      "C:\\Users\\Benny\\Anaconda3\\envs\\fastai\\lib\\site-packages\\torchvision\\models\\densenet.py:212: UserWarning: nn.init.kaiming_normal is now deprecated in favor of nn.init.kaiming_normal_.\n",
      "  nn.init.kaiming_normal(m.weight.data)\n",
      "C:\\Users\\Benny\\Anaconda3\\envs\\fastai\\lib\\site-packages\\torchvision\\models\\densenet.py:212: UserWarning: nn.init.kaiming_normal is now deprecated in favor of nn.init.kaiming_normal_.\n",
      "  nn.init.kaiming_normal(m.weight.data)\n",
      "C:\\Users\\Benny\\Anaconda3\\envs\\fastai\\lib\\site-packages\\torchvision\\models\\densenet.py:212: UserWarning: nn.init.kaiming_normal is now deprecated in favor of nn.init.kaiming_normal_.\n",
      "  nn.init.kaiming_normal(m.weight.data)\n",
      "C:\\Users\\Benny\\Anaconda3\\envs\\fastai\\lib\\site-packages\\torchvision\\models\\densenet.py:212: UserWarning: nn.init.kaiming_normal is now deprecated in favor of nn.init.kaiming_normal_.\n",
      "  nn.init.kaiming_normal(m.weight.data)\n",
      "C:\\Users\\Benny\\Anaconda3\\envs\\fastai\\lib\\site-packages\\torchvision\\models\\densenet.py:212: UserWarning: nn.init.kaiming_normal is now deprecated in favor of nn.init.kaiming_normal_.\n",
      "  nn.init.kaiming_normal(m.weight.data)\n",
      "C:\\Users\\Benny\\Anaconda3\\envs\\fastai\\lib\\site-packages\\torchvision\\models\\densenet.py:212: UserWarning: nn.init.kaiming_normal is now deprecated in favor of nn.init.kaiming_normal_.\n",
      "  nn.init.kaiming_normal(m.weight.data)\n",
      "C:\\Users\\Benny\\Anaconda3\\envs\\fastai\\lib\\site-packages\\torchvision\\models\\densenet.py:212: UserWarning: nn.init.kaiming_normal is now deprecated in favor of nn.init.kaiming_normal_.\n",
      "  nn.init.kaiming_normal(m.weight.data)\n",
      "C:\\Users\\Benny\\Anaconda3\\envs\\fastai\\lib\\site-packages\\torchvision\\models\\densenet.py:212: UserWarning: nn.init.kaiming_normal is now deprecated in favor of nn.init.kaiming_normal_.\n",
      "  nn.init.kaiming_normal(m.weight.data)\n",
      "C:\\Users\\Benny\\Anaconda3\\envs\\fastai\\lib\\site-packages\\torchvision\\models\\densenet.py:212: UserWarning: nn.init.kaiming_normal is now deprecated in favor of nn.init.kaiming_normal_.\n",
      "  nn.init.kaiming_normal(m.weight.data)\n",
      "C:\\Users\\Benny\\Anaconda3\\envs\\fastai\\lib\\site-packages\\torchvision\\models\\densenet.py:212: UserWarning: nn.init.kaiming_normal is now deprecated in favor of nn.init.kaiming_normal_.\n",
      "  nn.init.kaiming_normal(m.weight.data)\n",
      "C:\\Users\\Benny\\Anaconda3\\envs\\fastai\\lib\\site-packages\\torchvision\\models\\densenet.py:212: UserWarning: nn.init.kaiming_normal is now deprecated in favor of nn.init.kaiming_normal_.\n",
      "  nn.init.kaiming_normal(m.weight.data)\n",
      "C:\\Users\\Benny\\Anaconda3\\envs\\fastai\\lib\\site-packages\\torchvision\\models\\densenet.py:212: UserWarning: nn.init.kaiming_normal is now deprecated in favor of nn.init.kaiming_normal_.\n",
      "  nn.init.kaiming_normal(m.weight.data)\n",
      "C:\\Users\\Benny\\Anaconda3\\envs\\fastai\\lib\\site-packages\\torchvision\\models\\densenet.py:212: UserWarning: nn.init.kaiming_normal is now deprecated in favor of nn.init.kaiming_normal_.\n",
      "  nn.init.kaiming_normal(m.weight.data)\n",
      "C:\\Users\\Benny\\Anaconda3\\envs\\fastai\\lib\\site-packages\\torchvision\\models\\densenet.py:212: UserWarning: nn.init.kaiming_normal is now deprecated in favor of nn.init.kaiming_normal_.\n",
      "  nn.init.kaiming_normal(m.weight.data)\n",
      "C:\\Users\\Benny\\Anaconda3\\envs\\fastai\\lib\\site-packages\\torchvision\\models\\densenet.py:212: UserWarning: nn.init.kaiming_normal is now deprecated in favor of nn.init.kaiming_normal_.\n",
      "  nn.init.kaiming_normal(m.weight.data)\n",
      "C:\\Users\\Benny\\Anaconda3\\envs\\fastai\\lib\\site-packages\\torchvision\\models\\densenet.py:212: UserWarning: nn.init.kaiming_normal is now deprecated in favor of nn.init.kaiming_normal_.\n",
      "  nn.init.kaiming_normal(m.weight.data)\n"
     ]
    },
    {
     "name": "stderr",
     "output_type": "stream",
     "text": [
      "C:\\Users\\Benny\\Anaconda3\\envs\\fastai\\lib\\site-packages\\torchvision\\models\\densenet.py:212: UserWarning: nn.init.kaiming_normal is now deprecated in favor of nn.init.kaiming_normal_.\n",
      "  nn.init.kaiming_normal(m.weight.data)\n",
      "C:\\Users\\Benny\\Anaconda3\\envs\\fastai\\lib\\site-packages\\torchvision\\models\\densenet.py:212: UserWarning: nn.init.kaiming_normal is now deprecated in favor of nn.init.kaiming_normal_.\n",
      "  nn.init.kaiming_normal(m.weight.data)\n",
      "C:\\Users\\Benny\\Anaconda3\\envs\\fastai\\lib\\site-packages\\torchvision\\models\\densenet.py:212: UserWarning: nn.init.kaiming_normal is now deprecated in favor of nn.init.kaiming_normal_.\n",
      "  nn.init.kaiming_normal(m.weight.data)\n",
      "C:\\Users\\Benny\\Anaconda3\\envs\\fastai\\lib\\site-packages\\torchvision\\models\\densenet.py:212: UserWarning: nn.init.kaiming_normal is now deprecated in favor of nn.init.kaiming_normal_.\n",
      "  nn.init.kaiming_normal(m.weight.data)\n",
      "C:\\Users\\Benny\\Anaconda3\\envs\\fastai\\lib\\site-packages\\torchvision\\models\\densenet.py:212: UserWarning: nn.init.kaiming_normal is now deprecated in favor of nn.init.kaiming_normal_.\n",
      "  nn.init.kaiming_normal(m.weight.data)\n",
      "C:\\Users\\Benny\\Anaconda3\\envs\\fastai\\lib\\site-packages\\torchvision\\models\\densenet.py:212: UserWarning: nn.init.kaiming_normal is now deprecated in favor of nn.init.kaiming_normal_.\n",
      "  nn.init.kaiming_normal(m.weight.data)\n",
      "C:\\Users\\Benny\\Anaconda3\\envs\\fastai\\lib\\site-packages\\torchvision\\models\\densenet.py:212: UserWarning: nn.init.kaiming_normal is now deprecated in favor of nn.init.kaiming_normal_.\n",
      "  nn.init.kaiming_normal(m.weight.data)\n",
      "C:\\Users\\Benny\\Anaconda3\\envs\\fastai\\lib\\site-packages\\torchvision\\models\\densenet.py:212: UserWarning: nn.init.kaiming_normal is now deprecated in favor of nn.init.kaiming_normal_.\n",
      "  nn.init.kaiming_normal(m.weight.data)\n",
      "C:\\Users\\Benny\\Anaconda3\\envs\\fastai\\lib\\site-packages\\torchvision\\models\\densenet.py:212: UserWarning: nn.init.kaiming_normal is now deprecated in favor of nn.init.kaiming_normal_.\n",
      "  nn.init.kaiming_normal(m.weight.data)\n",
      "C:\\Users\\Benny\\Anaconda3\\envs\\fastai\\lib\\site-packages\\torchvision\\models\\densenet.py:212: UserWarning: nn.init.kaiming_normal is now deprecated in favor of nn.init.kaiming_normal_.\n",
      "  nn.init.kaiming_normal(m.weight.data)\n",
      "C:\\Users\\Benny\\Anaconda3\\envs\\fastai\\lib\\site-packages\\torchvision\\models\\densenet.py:212: UserWarning: nn.init.kaiming_normal is now deprecated in favor of nn.init.kaiming_normal_.\n",
      "  nn.init.kaiming_normal(m.weight.data)\n",
      "C:\\Users\\Benny\\Anaconda3\\envs\\fastai\\lib\\site-packages\\torchvision\\models\\densenet.py:212: UserWarning: nn.init.kaiming_normal is now deprecated in favor of nn.init.kaiming_normal_.\n",
      "  nn.init.kaiming_normal(m.weight.data)\n",
      "C:\\Users\\Benny\\Anaconda3\\envs\\fastai\\lib\\site-packages\\torchvision\\models\\densenet.py:212: UserWarning: nn.init.kaiming_normal is now deprecated in favor of nn.init.kaiming_normal_.\n",
      "  nn.init.kaiming_normal(m.weight.data)\n",
      "C:\\Users\\Benny\\Anaconda3\\envs\\fastai\\lib\\site-packages\\torchvision\\models\\densenet.py:212: UserWarning: nn.init.kaiming_normal is now deprecated in favor of nn.init.kaiming_normal_.\n",
      "  nn.init.kaiming_normal(m.weight.data)\n",
      "C:\\Users\\Benny\\Anaconda3\\envs\\fastai\\lib\\site-packages\\torchvision\\models\\densenet.py:212: UserWarning: nn.init.kaiming_normal is now deprecated in favor of nn.init.kaiming_normal_.\n",
      "  nn.init.kaiming_normal(m.weight.data)\n",
      "C:\\Users\\Benny\\Anaconda3\\envs\\fastai\\lib\\site-packages\\torchvision\\models\\densenet.py:212: UserWarning: nn.init.kaiming_normal is now deprecated in favor of nn.init.kaiming_normal_.\n",
      "  nn.init.kaiming_normal(m.weight.data)\n",
      "C:\\Users\\Benny\\Anaconda3\\envs\\fastai\\lib\\site-packages\\torchvision\\models\\densenet.py:212: UserWarning: nn.init.kaiming_normal is now deprecated in favor of nn.init.kaiming_normal_.\n",
      "  nn.init.kaiming_normal(m.weight.data)\n",
      "C:\\Users\\Benny\\Anaconda3\\envs\\fastai\\lib\\site-packages\\torchvision\\models\\densenet.py:212: UserWarning: nn.init.kaiming_normal is now deprecated in favor of nn.init.kaiming_normal_.\n",
      "  nn.init.kaiming_normal(m.weight.data)\n",
      "C:\\Users\\Benny\\Anaconda3\\envs\\fastai\\lib\\site-packages\\torchvision\\models\\densenet.py:212: UserWarning: nn.init.kaiming_normal is now deprecated in favor of nn.init.kaiming_normal_.\n",
      "  nn.init.kaiming_normal(m.weight.data)\n",
      "C:\\Users\\Benny\\Anaconda3\\envs\\fastai\\lib\\site-packages\\torchvision\\models\\densenet.py:212: UserWarning: nn.init.kaiming_normal is now deprecated in favor of nn.init.kaiming_normal_.\n",
      "  nn.init.kaiming_normal(m.weight.data)\n",
      "C:\\Users\\Benny\\Anaconda3\\envs\\fastai\\lib\\site-packages\\torchvision\\models\\densenet.py:212: UserWarning: nn.init.kaiming_normal is now deprecated in favor of nn.init.kaiming_normal_.\n",
      "  nn.init.kaiming_normal(m.weight.data)\n",
      "C:\\Users\\Benny\\Anaconda3\\envs\\fastai\\lib\\site-packages\\torchvision\\models\\densenet.py:212: UserWarning: nn.init.kaiming_normal is now deprecated in favor of nn.init.kaiming_normal_.\n",
      "  nn.init.kaiming_normal(m.weight.data)\n",
      "C:\\Users\\Benny\\Anaconda3\\envs\\fastai\\lib\\site-packages\\torchvision\\models\\densenet.py:212: UserWarning: nn.init.kaiming_normal is now deprecated in favor of nn.init.kaiming_normal_.\n",
      "  nn.init.kaiming_normal(m.weight.data)\n",
      "C:\\Users\\Benny\\Anaconda3\\envs\\fastai\\lib\\site-packages\\torchvision\\models\\densenet.py:212: UserWarning: nn.init.kaiming_normal is now deprecated in favor of nn.init.kaiming_normal_.\n",
      "  nn.init.kaiming_normal(m.weight.data)\n",
      "C:\\Users\\Benny\\Anaconda3\\envs\\fastai\\lib\\site-packages\\torchvision\\models\\densenet.py:212: UserWarning: nn.init.kaiming_normal is now deprecated in favor of nn.init.kaiming_normal_.\n",
      "  nn.init.kaiming_normal(m.weight.data)\n",
      "C:\\Users\\Benny\\Anaconda3\\envs\\fastai\\lib\\site-packages\\torchvision\\models\\densenet.py:212: UserWarning: nn.init.kaiming_normal is now deprecated in favor of nn.init.kaiming_normal_.\n",
      "  nn.init.kaiming_normal(m.weight.data)\n",
      "C:\\Users\\Benny\\Anaconda3\\envs\\fastai\\lib\\site-packages\\torchvision\\models\\densenet.py:212: UserWarning: nn.init.kaiming_normal is now deprecated in favor of nn.init.kaiming_normal_.\n",
      "  nn.init.kaiming_normal(m.weight.data)\n",
      "C:\\Users\\Benny\\Anaconda3\\envs\\fastai\\lib\\site-packages\\torchvision\\models\\densenet.py:212: UserWarning: nn.init.kaiming_normal is now deprecated in favor of nn.init.kaiming_normal_.\n",
      "  nn.init.kaiming_normal(m.weight.data)\n",
      "C:\\Users\\Benny\\Anaconda3\\envs\\fastai\\lib\\site-packages\\torchvision\\models\\densenet.py:212: UserWarning: nn.init.kaiming_normal is now deprecated in favor of nn.init.kaiming_normal_.\n",
      "  nn.init.kaiming_normal(m.weight.data)\n",
      "C:\\Users\\Benny\\Anaconda3\\envs\\fastai\\lib\\site-packages\\torchvision\\models\\densenet.py:212: UserWarning: nn.init.kaiming_normal is now deprecated in favor of nn.init.kaiming_normal_.\n",
      "  nn.init.kaiming_normal(m.weight.data)\n",
      "C:\\Users\\Benny\\Anaconda3\\envs\\fastai\\lib\\site-packages\\torchvision\\models\\densenet.py:212: UserWarning: nn.init.kaiming_normal is now deprecated in favor of nn.init.kaiming_normal_.\n",
      "  nn.init.kaiming_normal(m.weight.data)\n",
      "C:\\Users\\Benny\\Anaconda3\\envs\\fastai\\lib\\site-packages\\torchvision\\models\\densenet.py:212: UserWarning: nn.init.kaiming_normal is now deprecated in favor of nn.init.kaiming_normal_.\n",
      "  nn.init.kaiming_normal(m.weight.data)\n",
      "C:\\Users\\Benny\\Anaconda3\\envs\\fastai\\lib\\site-packages\\torchvision\\models\\densenet.py:212: UserWarning: nn.init.kaiming_normal is now deprecated in favor of nn.init.kaiming_normal_.\n",
      "  nn.init.kaiming_normal(m.weight.data)\n",
      "C:\\Users\\Benny\\Anaconda3\\envs\\fastai\\lib\\site-packages\\torchvision\\models\\densenet.py:212: UserWarning: nn.init.kaiming_normal is now deprecated in favor of nn.init.kaiming_normal_.\n",
      "  nn.init.kaiming_normal(m.weight.data)\n",
      "C:\\Users\\Benny\\Anaconda3\\envs\\fastai\\lib\\site-packages\\torchvision\\models\\densenet.py:212: UserWarning: nn.init.kaiming_normal is now deprecated in favor of nn.init.kaiming_normal_.\n",
      "  nn.init.kaiming_normal(m.weight.data)\n",
      "C:\\Users\\Benny\\Anaconda3\\envs\\fastai\\lib\\site-packages\\torchvision\\models\\densenet.py:212: UserWarning: nn.init.kaiming_normal is now deprecated in favor of nn.init.kaiming_normal_.\n",
      "  nn.init.kaiming_normal(m.weight.data)\n",
      "C:\\Users\\Benny\\Anaconda3\\envs\\fastai\\lib\\site-packages\\torchvision\\models\\densenet.py:212: UserWarning: nn.init.kaiming_normal is now deprecated in favor of nn.init.kaiming_normal_.\n",
      "  nn.init.kaiming_normal(m.weight.data)\n"
     ]
    },
    {
     "name": "stderr",
     "output_type": "stream",
     "text": [
      "C:\\Users\\Benny\\Anaconda3\\envs\\fastai\\lib\\site-packages\\torchvision\\models\\densenet.py:212: UserWarning: nn.init.kaiming_normal is now deprecated in favor of nn.init.kaiming_normal_.\n",
      "  nn.init.kaiming_normal(m.weight.data)\n",
      "C:\\Users\\Benny\\Anaconda3\\envs\\fastai\\lib\\site-packages\\torchvision\\models\\densenet.py:212: UserWarning: nn.init.kaiming_normal is now deprecated in favor of nn.init.kaiming_normal_.\n",
      "  nn.init.kaiming_normal(m.weight.data)\n",
      "C:\\Users\\Benny\\Anaconda3\\envs\\fastai\\lib\\site-packages\\torchvision\\models\\densenet.py:212: UserWarning: nn.init.kaiming_normal is now deprecated in favor of nn.init.kaiming_normal_.\n",
      "  nn.init.kaiming_normal(m.weight.data)\n",
      "C:\\Users\\Benny\\Anaconda3\\envs\\fastai\\lib\\site-packages\\torchvision\\models\\densenet.py:212: UserWarning: nn.init.kaiming_normal is now deprecated in favor of nn.init.kaiming_normal_.\n",
      "  nn.init.kaiming_normal(m.weight.data)\n",
      "C:\\Users\\Benny\\Anaconda3\\envs\\fastai\\lib\\site-packages\\torchvision\\models\\densenet.py:212: UserWarning: nn.init.kaiming_normal is now deprecated in favor of nn.init.kaiming_normal_.\n",
      "  nn.init.kaiming_normal(m.weight.data)\n",
      "C:\\Users\\Benny\\Anaconda3\\envs\\fastai\\lib\\site-packages\\torchvision\\models\\densenet.py:212: UserWarning: nn.init.kaiming_normal is now deprecated in favor of nn.init.kaiming_normal_.\n",
      "  nn.init.kaiming_normal(m.weight.data)\n",
      "C:\\Users\\Benny\\Anaconda3\\envs\\fastai\\lib\\site-packages\\torchvision\\models\\densenet.py:212: UserWarning: nn.init.kaiming_normal is now deprecated in favor of nn.init.kaiming_normal_.\n",
      "  nn.init.kaiming_normal(m.weight.data)\n",
      "C:\\Users\\Benny\\Anaconda3\\envs\\fastai\\lib\\site-packages\\torchvision\\models\\densenet.py:212: UserWarning: nn.init.kaiming_normal is now deprecated in favor of nn.init.kaiming_normal_.\n",
      "  nn.init.kaiming_normal(m.weight.data)\n",
      "C:\\Users\\Benny\\Anaconda3\\envs\\fastai\\lib\\site-packages\\torchvision\\models\\densenet.py:212: UserWarning: nn.init.kaiming_normal is now deprecated in favor of nn.init.kaiming_normal_.\n",
      "  nn.init.kaiming_normal(m.weight.data)\n",
      "C:\\Users\\Benny\\Anaconda3\\envs\\fastai\\lib\\site-packages\\torchvision\\models\\densenet.py:212: UserWarning: nn.init.kaiming_normal is now deprecated in favor of nn.init.kaiming_normal_.\n",
      "  nn.init.kaiming_normal(m.weight.data)\n",
      "C:\\Users\\Benny\\Anaconda3\\envs\\fastai\\lib\\site-packages\\torchvision\\models\\densenet.py:212: UserWarning: nn.init.kaiming_normal is now deprecated in favor of nn.init.kaiming_normal_.\n",
      "  nn.init.kaiming_normal(m.weight.data)\n",
      "C:\\Users\\Benny\\Anaconda3\\envs\\fastai\\lib\\site-packages\\torchvision\\models\\densenet.py:212: UserWarning: nn.init.kaiming_normal is now deprecated in favor of nn.init.kaiming_normal_.\n",
      "  nn.init.kaiming_normal(m.weight.data)\n",
      "C:\\Users\\Benny\\Anaconda3\\envs\\fastai\\lib\\site-packages\\torchvision\\models\\densenet.py:212: UserWarning: nn.init.kaiming_normal is now deprecated in favor of nn.init.kaiming_normal_.\n",
      "  nn.init.kaiming_normal(m.weight.data)\n",
      "C:\\Users\\Benny\\Anaconda3\\envs\\fastai\\lib\\site-packages\\torchvision\\models\\densenet.py:212: UserWarning: nn.init.kaiming_normal is now deprecated in favor of nn.init.kaiming_normal_.\n",
      "  nn.init.kaiming_normal(m.weight.data)\n",
      "C:\\Users\\Benny\\Anaconda3\\envs\\fastai\\lib\\site-packages\\torchvision\\models\\densenet.py:212: UserWarning: nn.init.kaiming_normal is now deprecated in favor of nn.init.kaiming_normal_.\n",
      "  nn.init.kaiming_normal(m.weight.data)\n",
      "Downloading: \"https://download.pytorch.org/models/densenet201-c1103571.pth\" to C:\\Users\\Benny/.torch\\models\\densenet201-c1103571.pth\n",
      "100%|██████████████████████████████████████████████████████████████| 81131730/81131730 [00:25<00:00, 3231509.08it/s]\n"
     ]
    },
    {
     "name": "stdout",
     "output_type": "stream",
     "text": [
      "100%|█████████████████████████████████████████████████████████████████████████████| 549/549 [02:14<00:00,  5.65it/s]\n",
      "100%|█████████████████████████████████████████████████████████████████████████████| 138/138 [00:30<00:00,  4.48it/s]\n",
      "100%|█████████████████████████████████████████████████████████████████████████████| 403/403 [01:35<00:00,  5.02it/s]\n"
     ]
    },
    {
     "data": {
      "application/vnd.jupyter.widget-view+json": {
       "model_id": "2aa7c7d688194b6085f43ee5f45e2c04",
       "version_major": 2,
       "version_minor": 0
      },
      "text/plain": [
       "HBox(children=(IntProgress(value=0, description='Epoch', max=7, style=ProgressStyle(description_width='initial…"
      ]
     },
     "metadata": {},
     "output_type": "display_data"
    },
    {
     "name": "stdout",
     "output_type": "stream",
     "text": [
      "epoch      trn_loss   val_loss   accuracy                                                                           \n",
      "    0      0.076128   0.045986   0.991983  \n",
      "    1      0.058986   0.033672   0.992347                                                                           \n",
      "    2      0.033071   0.03247    0.992711                                                                           \n",
      "    3      0.038887   0.030643   0.993076                                                                           \n",
      "    4      0.023324   0.03098    0.993076                                                                           \n",
      "    5      0.023177   0.031932   0.992347                                                                           \n",
      "    6      0.023104   0.030952   0.991618                                                                           \n",
      "\n",
      "['dn201', 0.9916180758017493, 0.8779527559055118]\n"
     ]
    }
   ],
   "source": [
    "result = []\n",
    "\n",
    "for arch in arch_list:\n",
    "\n",
    "    tfms = tfms_from_model(arch, sz,aug_tfms=transforms_top_down, max_zoom=1.05)\n",
    "    data = ImageClassifierData.from_csv('', '', 'train_val.csv', bs=bs, tfms=tfms, val_idxs=idxs,\n",
    "                                    test_name='test', continuous=False, skip_header=True, num_workers=8, cat_separator=',')\n",
    "    learn = ConvLearner.pretrained(arch, data, precompute=True)\n",
    "    learn.fit(1e-5, 7)\n",
    "    log_preds=learn.predict()\n",
    "    val_accuracy = accuracy_np(np.exp(log_preds), data.val_y)\n",
    "    \n",
    "    log_preds=learn.predict(is_test=True)\n",
    "    log_preds_test, log_preds_sub, submit_fnames = separate_test_set(data, log_preds)\n",
    "    test_accuracy = accuracy_np(np.exp(log_preds_test), y_test)\n",
    "    arch_result = [arch.__name__, val_accuracy, test_accuracy]\n",
    "    print(arch_result)\n",
    "    \n",
    "    # generatre submission files\n",
    "    preds=np.argmax(log_preds_sub,axis=1)\n",
    "    predict_df = pd.DataFrame({'image_id':submit_fnames,'has_oilpalm':preds})\n",
    "    predict_df.to_csv(arch.__name__+'_sub.csv',index=False)"
   ]
  },
  {
   "cell_type": "markdown",
   "metadata": {},
   "source": [
    "Played with different architectures and augmentation, submitted the prediction to Kaggle and see the score. The result is stored in a model_result.csv files."
   ]
  },
  {
   "cell_type": "code",
   "execution_count": 26,
   "metadata": {},
   "outputs": [
    {
     "data": {
      "text/html": [
       "<div>\n",
       "<style scoped>\n",
       "    .dataframe tbody tr th:only-of-type {\n",
       "        vertical-align: middle;\n",
       "    }\n",
       "\n",
       "    .dataframe tbody tr th {\n",
       "        vertical-align: top;\n",
       "    }\n",
       "\n",
       "    .dataframe thead th {\n",
       "        text-align: right;\n",
       "    }\n",
       "</style>\n",
       "<table border=\"1\" class=\"dataframe\">\n",
       "  <thead>\n",
       "    <tr style=\"text-align: right;\">\n",
       "      <th></th>\n",
       "      <th>arch</th>\n",
       "      <th>val</th>\n",
       "      <th>test</th>\n",
       "      <th>Kaggle_score</th>\n",
       "    </tr>\n",
       "  </thead>\n",
       "  <tbody>\n",
       "    <tr>\n",
       "      <th>0</th>\n",
       "      <td>dn201</td>\n",
       "      <td>0.991983</td>\n",
       "      <td>0.872047</td>\n",
       "      <td>0.95633</td>\n",
       "    </tr>\n",
       "    <tr>\n",
       "      <th>1</th>\n",
       "      <td>dn201</td>\n",
       "      <td>0.987974</td>\n",
       "      <td>0.879921</td>\n",
       "      <td>0.91595</td>\n",
       "    </tr>\n",
       "    <tr>\n",
       "      <th>2</th>\n",
       "      <td>dn121</td>\n",
       "      <td>0.981414</td>\n",
       "      <td>0.864173</td>\n",
       "      <td>0.93341</td>\n",
       "    </tr>\n",
       "    <tr>\n",
       "      <th>3</th>\n",
       "      <td>resnet152</td>\n",
       "      <td>0.990525</td>\n",
       "      <td>0.883202</td>\n",
       "      <td>0.91081</td>\n",
       "    </tr>\n",
       "    <tr>\n",
       "      <th>4</th>\n",
       "      <td>resnext101</td>\n",
       "      <td>0.984694</td>\n",
       "      <td>0.870079</td>\n",
       "      <td>0.92433</td>\n",
       "    </tr>\n",
       "  </tbody>\n",
       "</table>\n",
       "</div>"
      ],
      "text/plain": [
       "         arch       val      test  Kaggle_score\n",
       "0       dn201  0.991983  0.872047       0.95633\n",
       "1       dn201  0.987974  0.879921       0.91595\n",
       "2       dn121  0.981414  0.864173       0.93341\n",
       "3   resnet152  0.990525  0.883202       0.91081\n",
       "4  resnext101  0.984694  0.870079       0.92433"
      ]
     },
     "execution_count": 26,
     "metadata": {},
     "output_type": "execute_result"
    }
   ],
   "source": [
    "result = pd.read_csv('model_result.csv')\n",
    "result = result.drop(['lr', 'epoch', 'transform'], axis=1)\n",
    "result.head()"
   ]
  },
  {
   "cell_type": "code",
   "execution_count": 27,
   "metadata": {},
   "outputs": [
    {
     "data": {
      "text/plain": [
       "<matplotlib.axes._subplots.AxesSubplot at 0x13e31212d68>"
      ]
     },
     "execution_count": 27,
     "metadata": {},
     "output_type": "execute_result"
    },
    {
     "data": {
      "image/png": "[encoded data removed]",
      "text/plain": [
       "<Figure size 432x288 with 1 Axes>"
      ]
     },
     "metadata": {
      "needs_background": "light"
     },
     "output_type": "display_data"
    }
   ],
   "source": [
    "result.plot('val', 'Kaggle_score', kind= 'scatter')"
   ]
  },
  {
   "cell_type": "markdown",
   "metadata": {},
   "source": [
    "Higher validation score correlated with higher Kaggle score. This means the validation set is pretty similar to the hold out set. "
   ]
  },
  {
   "cell_type": "code",
   "execution_count": 28,
   "metadata": {},
   "outputs": [
    {
     "data": {
      "text/plain": [
       "<matplotlib.axes._subplots.AxesSubplot at 0x13e312769b0>"
      ]
     },
     "execution_count": 28,
     "metadata": {},
     "output_type": "execute_result"
    },
    {
     "data": {
      "image/png": "[encoded data removed]",
      "text/plain": [
       "<Figure size 432x288 with 1 Axes>"
      ]
     },
     "metadata": {
      "needs_background": "light"
     },
     "output_type": "display_data"
    }
   ],
   "source": [
    "result.plot('test', 'Kaggle_score', kind= 'scatter')"
   ]
  },
  {
   "cell_type": "markdown",
   "metadata": {},
   "source": [
    "Test set is not that similar to the hold out. Next, we rank model by the training score. "
   ]
  },
  {
   "cell_type": "code",
   "execution_count": 30,
   "metadata": {},
   "outputs": [
    {
     "data": {
      "text/html": [
       "<div>\n",
       "<style scoped>\n",
       "    .dataframe tbody tr th:only-of-type {\n",
       "        vertical-align: middle;\n",
       "    }\n",
       "\n",
       "    .dataframe tbody tr th {\n",
       "        vertical-align: top;\n",
       "    }\n",
       "\n",
       "    .dataframe thead th {\n",
       "        text-align: right;\n",
       "    }\n",
       "</style>\n",
       "<table border=\"1\" class=\"dataframe\">\n",
       "  <thead>\n",
       "    <tr style=\"text-align: right;\">\n",
       "      <th></th>\n",
       "      <th>arch</th>\n",
       "      <th>val</th>\n",
       "      <th>test</th>\n",
       "      <th>Kaggle_score</th>\n",
       "    </tr>\n",
       "  </thead>\n",
       "  <tbody>\n",
       "    <tr>\n",
       "      <th>0</th>\n",
       "      <td>dn201</td>\n",
       "      <td>0.991983</td>\n",
       "      <td>0.872047</td>\n",
       "      <td>0.95633</td>\n",
       "    </tr>\n",
       "    <tr>\n",
       "      <th>14</th>\n",
       "      <td>restnext101</td>\n",
       "      <td>0.990889</td>\n",
       "      <td>0.880577</td>\n",
       "      <td>NaN</td>\n",
       "    </tr>\n",
       "    <tr>\n",
       "      <th>3</th>\n",
       "      <td>resnet152</td>\n",
       "      <td>0.990525</td>\n",
       "      <td>0.883202</td>\n",
       "      <td>0.91081</td>\n",
       "    </tr>\n",
       "    <tr>\n",
       "      <th>5</th>\n",
       "      <td>resnext101</td>\n",
       "      <td>0.990160</td>\n",
       "      <td>0.877953</td>\n",
       "      <td>0.93941</td>\n",
       "    </tr>\n",
       "    <tr>\n",
       "      <th>7</th>\n",
       "      <td>resnet101</td>\n",
       "      <td>0.990160</td>\n",
       "      <td>0.880577</td>\n",
       "      <td>0.89830</td>\n",
       "    </tr>\n",
       "    <tr>\n",
       "      <th>12</th>\n",
       "      <td>wrn</td>\n",
       "      <td>0.989796</td>\n",
       "      <td>0.881890</td>\n",
       "      <td>NaN</td>\n",
       "    </tr>\n",
       "    <tr>\n",
       "      <th>8</th>\n",
       "      <td>vgg16</td>\n",
       "      <td>0.989431</td>\n",
       "      <td>0.882546</td>\n",
       "      <td>0.90888</td>\n",
       "    </tr>\n",
       "    <tr>\n",
       "      <th>10</th>\n",
       "      <td>vgg19</td>\n",
       "      <td>0.988703</td>\n",
       "      <td>0.876640</td>\n",
       "      <td>NaN</td>\n",
       "    </tr>\n",
       "    <tr>\n",
       "      <th>1</th>\n",
       "      <td>dn201</td>\n",
       "      <td>0.987974</td>\n",
       "      <td>0.879921</td>\n",
       "      <td>0.91595</td>\n",
       "    </tr>\n",
       "    <tr>\n",
       "      <th>11</th>\n",
       "      <td>resnext50</td>\n",
       "      <td>0.987974</td>\n",
       "      <td>0.878609</td>\n",
       "      <td>NaN</td>\n",
       "    </tr>\n",
       "    <tr>\n",
       "      <th>13</th>\n",
       "      <td>resnet18</td>\n",
       "      <td>0.985787</td>\n",
       "      <td>0.883858</td>\n",
       "      <td>NaN</td>\n",
       "    </tr>\n",
       "    <tr>\n",
       "      <th>4</th>\n",
       "      <td>resnext101</td>\n",
       "      <td>0.984694</td>\n",
       "      <td>0.870079</td>\n",
       "      <td>0.92433</td>\n",
       "    </tr>\n",
       "    <tr>\n",
       "      <th>9</th>\n",
       "      <td>inception_4</td>\n",
       "      <td>0.981778</td>\n",
       "      <td>0.887795</td>\n",
       "      <td>0.86697</td>\n",
       "    </tr>\n",
       "    <tr>\n",
       "      <th>2</th>\n",
       "      <td>dn121</td>\n",
       "      <td>0.981414</td>\n",
       "      <td>0.864173</td>\n",
       "      <td>0.93341</td>\n",
       "    </tr>\n",
       "    <tr>\n",
       "      <th>6</th>\n",
       "      <td>resnet34</td>\n",
       "      <td>0.976312</td>\n",
       "      <td>0.864829</td>\n",
       "      <td>NaN</td>\n",
       "    </tr>\n",
       "  </tbody>\n",
       "</table>\n",
       "</div>"
      ],
      "text/plain": [
       "           arch       val      test  Kaggle_score\n",
       "0         dn201  0.991983  0.872047       0.95633\n",
       "14  restnext101  0.990889  0.880577           NaN\n",
       "3     resnet152  0.990525  0.883202       0.91081\n",
       "5    resnext101  0.990160  0.877953       0.93941\n",
       "7     resnet101  0.990160  0.880577       0.89830\n",
       "12          wrn  0.989796  0.881890           NaN\n",
       "8         vgg16  0.989431  0.882546       0.90888\n",
       "10        vgg19  0.988703  0.876640           NaN\n",
       "1         dn201  0.987974  0.879921       0.91595\n",
       "11    resnext50  0.987974  0.878609           NaN\n",
       "13     resnet18  0.985787  0.883858           NaN\n",
       "4    resnext101  0.984694  0.870079       0.92433\n",
       "9   inception_4  0.981778  0.887795       0.86697\n",
       "2         dn121  0.981414  0.864173       0.93341\n",
       "6      resnet34  0.976312  0.864829           NaN"
      ]
     },
     "execution_count": 30,
     "metadata": {},
     "output_type": "execute_result"
    }
   ],
   "source": [
    "result.sort_values('val', ascending=False)"
   ]
  },
  {
   "cell_type": "code",
   "execution_count": 31,
   "metadata": {},
   "outputs": [
    {
     "data": {
      "text/html": [
       "<div>\n",
       "<style scoped>\n",
       "    .dataframe tbody tr th:only-of-type {\n",
       "        vertical-align: middle;\n",
       "    }\n",
       "\n",
       "    .dataframe tbody tr th {\n",
       "        vertical-align: top;\n",
       "    }\n",
       "\n",
       "    .dataframe thead th {\n",
       "        text-align: right;\n",
       "    }\n",
       "</style>\n",
       "<table border=\"1\" class=\"dataframe\">\n",
       "  <thead>\n",
       "    <tr style=\"text-align: right;\">\n",
       "      <th></th>\n",
       "      <th>arch</th>\n",
       "      <th>val</th>\n",
       "      <th>test</th>\n",
       "      <th>Kaggle_score</th>\n",
       "    </tr>\n",
       "  </thead>\n",
       "  <tbody>\n",
       "    <tr>\n",
       "      <th>9</th>\n",
       "      <td>inception_4</td>\n",
       "      <td>0.981778</td>\n",
       "      <td>0.887795</td>\n",
       "      <td>0.86697</td>\n",
       "    </tr>\n",
       "    <tr>\n",
       "      <th>13</th>\n",
       "      <td>resnet18</td>\n",
       "      <td>0.985787</td>\n",
       "      <td>0.883858</td>\n",
       "      <td>NaN</td>\n",
       "    </tr>\n",
       "    <tr>\n",
       "      <th>3</th>\n",
       "      <td>resnet152</td>\n",
       "      <td>0.990525</td>\n",
       "      <td>0.883202</td>\n",
       "      <td>0.91081</td>\n",
       "    </tr>\n",
       "    <tr>\n",
       "      <th>8</th>\n",
       "      <td>vgg16</td>\n",
       "      <td>0.989431</td>\n",
       "      <td>0.882546</td>\n",
       "      <td>0.90888</td>\n",
       "    </tr>\n",
       "    <tr>\n",
       "      <th>12</th>\n",
       "      <td>wrn</td>\n",
       "      <td>0.989796</td>\n",
       "      <td>0.881890</td>\n",
       "      <td>NaN</td>\n",
       "    </tr>\n",
       "    <tr>\n",
       "      <th>7</th>\n",
       "      <td>resnet101</td>\n",
       "      <td>0.990160</td>\n",
       "      <td>0.880577</td>\n",
       "      <td>0.89830</td>\n",
       "    </tr>\n",
       "    <tr>\n",
       "      <th>14</th>\n",
       "      <td>restnext101</td>\n",
       "      <td>0.990889</td>\n",
       "      <td>0.880577</td>\n",
       "      <td>NaN</td>\n",
       "    </tr>\n",
       "    <tr>\n",
       "      <th>1</th>\n",
       "      <td>dn201</td>\n",
       "      <td>0.987974</td>\n",
       "      <td>0.879921</td>\n",
       "      <td>0.91595</td>\n",
       "    </tr>\n",
       "    <tr>\n",
       "      <th>11</th>\n",
       "      <td>resnext50</td>\n",
       "      <td>0.987974</td>\n",
       "      <td>0.878609</td>\n",
       "      <td>NaN</td>\n",
       "    </tr>\n",
       "    <tr>\n",
       "      <th>5</th>\n",
       "      <td>resnext101</td>\n",
       "      <td>0.990160</td>\n",
       "      <td>0.877953</td>\n",
       "      <td>0.93941</td>\n",
       "    </tr>\n",
       "    <tr>\n",
       "      <th>10</th>\n",
       "      <td>vgg19</td>\n",
       "      <td>0.988703</td>\n",
       "      <td>0.876640</td>\n",
       "      <td>NaN</td>\n",
       "    </tr>\n",
       "    <tr>\n",
       "      <th>0</th>\n",
       "      <td>dn201</td>\n",
       "      <td>0.991983</td>\n",
       "      <td>0.872047</td>\n",
       "      <td>0.95633</td>\n",
       "    </tr>\n",
       "    <tr>\n",
       "      <th>4</th>\n",
       "      <td>resnext101</td>\n",
       "      <td>0.984694</td>\n",
       "      <td>0.870079</td>\n",
       "      <td>0.92433</td>\n",
       "    </tr>\n",
       "    <tr>\n",
       "      <th>6</th>\n",
       "      <td>resnet34</td>\n",
       "      <td>0.976312</td>\n",
       "      <td>0.864829</td>\n",
       "      <td>NaN</td>\n",
       "    </tr>\n",
       "    <tr>\n",
       "      <th>2</th>\n",
       "      <td>dn121</td>\n",
       "      <td>0.981414</td>\n",
       "      <td>0.864173</td>\n",
       "      <td>0.93341</td>\n",
       "    </tr>\n",
       "  </tbody>\n",
       "</table>\n",
       "</div>"
      ],
      "text/plain": [
       "           arch       val      test  Kaggle_score\n",
       "9   inception_4  0.981778  0.887795       0.86697\n",
       "13     resnet18  0.985787  0.883858           NaN\n",
       "3     resnet152  0.990525  0.883202       0.91081\n",
       "8         vgg16  0.989431  0.882546       0.90888\n",
       "12          wrn  0.989796  0.881890           NaN\n",
       "7     resnet101  0.990160  0.880577       0.89830\n",
       "14  restnext101  0.990889  0.880577           NaN\n",
       "1         dn201  0.987974  0.879921       0.91595\n",
       "11    resnext50  0.987974  0.878609           NaN\n",
       "5    resnext101  0.990160  0.877953       0.93941\n",
       "10        vgg19  0.988703  0.876640           NaN\n",
       "0         dn201  0.991983  0.872047       0.95633\n",
       "4    resnext101  0.984694  0.870079       0.92433\n",
       "6      resnet34  0.976312  0.864829           NaN\n",
       "2         dn121  0.981414  0.864173       0.93341"
      ]
     },
     "execution_count": 31,
     "metadata": {},
     "output_type": "execute_result"
    }
   ],
   "source": [
    "result.sort_values('test', ascending=False)"
   ]
  },
  {
   "cell_type": "markdown",
   "metadata": {},
   "source": [
    "In summary, there seems to be a correlation between the training set and the hold out set. Therefore, I can use the validation accuracy for choosing a model. The best architecture is dn201, which gives accuracy of 95.63% on Kaggle hold out set (150 position on the leaderboard). The other two models, resnext101, and resnet101, seem to perform well for both train and test sets. \n",
    "\n",
    "To improve the prediction accuracy, I plan to train the model using another set of satellite images. Use the pretrained weight on this dataset.  "
   ]
  },
  {
   "cell_type": "code",
   "execution_count": null,
   "metadata": {},
   "outputs": [],
   "source": []
  }
 ],
 "metadata": {
  "kernelspec": {
   "display_name": "Python 3",
   "language": "python",
   "name": "python3"
  },
  "language_info": {
   "codemirror_mode": {
    "name": "ipython",
    "version": 3
   },
   "file_extension": ".py",
   "mimetype": "text/x-python",
   "name": "python",
   "nbconvert_exporter": "python",
   "pygments_lexer": "ipython3",
   "version": "3.6.8"
  }
 },
 "nbformat": 4,
 "nbformat_minor": 2
}
